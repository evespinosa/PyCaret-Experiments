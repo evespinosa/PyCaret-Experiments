{
 "cells": [
  {
   "cell_type": "code",
   "execution_count": 1,
   "id": "2dce1bc0-cf04-41c7-b268-f21aa823c12e",
   "metadata": {
    "editable": true,
    "slideshow": {
     "slide_type": ""
    },
    "tags": []
   },
   "outputs": [
    {
     "data": {
      "text/plain": [
       "'3.2.0'"
      ]
     },
     "execution_count": 1,
     "metadata": {},
     "output_type": "execute_result"
    }
   ],
   "source": [
    "from pycaret.utils import version\n",
    "version()"
   ]
  },
  {
   "cell_type": "code",
   "execution_count": 2,
   "id": "42d857c7-f430-4e47-89ce-18266bef7fb5",
   "metadata": {
    "editable": true,
    "slideshow": {
     "slide_type": ""
    },
    "tags": []
   },
   "outputs": [],
   "source": [
    "import pandas as pd\n",
    "from pycaret.classification import setup\n",
    "from datetime import datetime\n",
    "import sqlite3"
   ]
  },
  {
   "cell_type": "markdown",
   "id": "21b9dedd-36a5-46c8-9e56-b120222e488f",
   "metadata": {
    "editable": true,
    "slideshow": {
     "slide_type": ""
    },
    "tags": []
   },
   "source": [
    "# 1. Experiment 1 "
   ]
  },
  {
   "cell_type": "markdown",
   "id": "21624bbb-52cc-48ee-a900-35c7a52c3b06",
   "metadata": {
    "editable": true,
    "slideshow": {
     "slide_type": ""
    },
    "tags": []
   },
   "source": [
    "## 1.1. Abstract\n",
    "\n",
    "Inital trial for data created from data vault.\n",
    "The features retieved are the GAME_STAISTIC. The aim of this note book is to learn how to use PyCaret\n",
    "\n",
    "Best model with out any \n"
   ]
  },
  {
   "cell_type": "markdown",
   "id": "c1db8fde-b46c-4e99-b717-7d915521672b",
   "metadata": {
    "editable": true,
    "slideshow": {
     "slide_type": ""
    },
    "tags": []
   },
   "source": [
    "## 1.2. Retrieve Data"
   ]
  },
  {
   "cell_type": "code",
   "execution_count": 33,
   "id": "85d83df8-3df6-4c6a-a2b1-c6201177a7ec",
   "metadata": {
    "editable": true,
    "slideshow": {
     "slide_type": ""
    },
    "tags": []
   },
   "outputs": [],
   "source": [
    "# Retriece data -the stats are from GAME Level\n",
    "\n",
    "data_base=f'D:/AFL_GRP/DataBase/AFLDataVault.db'\n",
    "connection=sqlite3.connect(database=data_base)\n",
    "query=f''' \n",
    "Select  hg.game_hashkey \n",
    "       ,hg.year,hg.round,hg.team,hg.opponent \n",
    "       ,sgd.Ground,sgd.Team_Result\n",
    "       ,sgs.Disposals_diff\n",
    "       ,sgs.Kicks_diff\n",
    "       ,sgs.Marks_diff\n",
    "       ,sgs.Handballs_diff\n",
    "       ,sgs.HitOuts_diff\n",
    "       ,sgs.Tackles_diff\n",
    "       ,sgs.Rebounds_diff\n",
    "       ,sgs.Inside50_diff\n",
    "       ,sgs.Clearances_diff\n",
    "       ,sgs.Clangers_diff\n",
    "       ,sgs.Frees_diff\n",
    "       ,sgs.FreesAgainst_diff\n",
    "       ,sgs.ContestedPossessions_diff\n",
    "       ,sgs.UncontestedPossessions_diff\n",
    "       ,sgs.ContestedMarks_diff\n",
    "       ,sgs.MarksInside50_diff\n",
    "       ,sgs.OnePercenters_diff\n",
    "       ,sgs.Bounces_diff\n",
    "       ,sgs.GoalAssists_diff\n",
    "from h_game hg\n",
    "join S_Game_Details sgd\n",
    "on   hg.Game_hashkey=sgd.game_hashkey\n",
    "join s_Game_statistics sgs\n",
    "on   hg.game_hashkey=sgs.game_hashkey\n",
    "where sgd.Team_Result <>9\n",
    "--and hg.round='GF'\n",
    "'''\n",
    "df_feature=pd.read_sql(query,connection)\n",
    "\n",
    "# store it here ay not need this line\n",
    "df_feature.to_csv('d:/AFL_PYCARET/Experiment1.csv',index=False)\n",
    "connection.close()\n",
    "\n",
    "dataset=df_feature"
   ]
  },
  {
   "cell_type": "code",
   "execution_count": 4,
   "id": "d49da20a-decb-4b82-92c4-22170ee7ebe2",
   "metadata": {
    "editable": true,
    "slideshow": {
     "slide_type": ""
    },
    "tags": []
   },
   "outputs": [],
   "source": [
    "# dataset.drop(['Year','Round','Team','Opponent','Ground']\n",
    "#              ,axis=1\n",
    "#              ,inplace=True)\n"
   ]
  },
  {
   "cell_type": "markdown",
   "id": "07a1cec7-c483-4756-b4f7-f526d178a599",
   "metadata": {
    "editable": true,
    "slideshow": {
     "slide_type": ""
    },
    "tags": []
   },
   "source": [
    "## 1.3. Analyse data."
   ]
  },
  {
   "cell_type": "code",
   "execution_count": 34,
   "id": "9775c507-a64f-4e68-a035-db006247419b",
   "metadata": {
    "editable": true,
    "slideshow": {
     "slide_type": ""
    },
    "tags": []
   },
   "outputs": [
    {
     "data": {
      "text/html": [
       "<style type=\"text/css\">\n",
       "#T_36af1_row9_col1 {\n",
       "  background-color: lightgreen;\n",
       "}\n",
       "</style>\n",
       "<table id=\"T_36af1\">\n",
       "  <thead>\n",
       "    <tr>\n",
       "      <th class=\"blank level0\" >&nbsp;</th>\n",
       "      <th id=\"T_36af1_level0_col0\" class=\"col_heading level0 col0\" >Description</th>\n",
       "      <th id=\"T_36af1_level0_col1\" class=\"col_heading level0 col1\" >Value</th>\n",
       "    </tr>\n",
       "  </thead>\n",
       "  <tbody>\n",
       "    <tr>\n",
       "      <th id=\"T_36af1_level0_row0\" class=\"row_heading level0 row0\" >0</th>\n",
       "      <td id=\"T_36af1_row0_col0\" class=\"data row0 col0\" >Session id</td>\n",
       "      <td id=\"T_36af1_row0_col1\" class=\"data row0 col1\" >6660</td>\n",
       "    </tr>\n",
       "    <tr>\n",
       "      <th id=\"T_36af1_level0_row1\" class=\"row_heading level0 row1\" >1</th>\n",
       "      <td id=\"T_36af1_row1_col0\" class=\"data row1 col0\" >Target</td>\n",
       "      <td id=\"T_36af1_row1_col1\" class=\"data row1 col1\" >Team_Result</td>\n",
       "    </tr>\n",
       "    <tr>\n",
       "      <th id=\"T_36af1_level0_row2\" class=\"row_heading level0 row2\" >2</th>\n",
       "      <td id=\"T_36af1_row2_col0\" class=\"data row2 col0\" >Target type</td>\n",
       "      <td id=\"T_36af1_row2_col1\" class=\"data row2 col1\" >Binary</td>\n",
       "    </tr>\n",
       "    <tr>\n",
       "      <th id=\"T_36af1_level0_row3\" class=\"row_heading level0 row3\" >3</th>\n",
       "      <td id=\"T_36af1_row3_col0\" class=\"data row3 col0\" >Original data shape</td>\n",
       "      <td id=\"T_36af1_row3_col1\" class=\"data row3 col1\" >(4097, 26)</td>\n",
       "    </tr>\n",
       "    <tr>\n",
       "      <th id=\"T_36af1_level0_row4\" class=\"row_heading level0 row4\" >4</th>\n",
       "      <td id=\"T_36af1_row4_col0\" class=\"data row4 col0\" >Transformed data shape</td>\n",
       "      <td id=\"T_36af1_row4_col1\" class=\"data row4 col1\" >(4097, 83)</td>\n",
       "    </tr>\n",
       "    <tr>\n",
       "      <th id=\"T_36af1_level0_row5\" class=\"row_heading level0 row5\" >5</th>\n",
       "      <td id=\"T_36af1_row5_col0\" class=\"data row5 col0\" >Transformed train set shape</td>\n",
       "      <td id=\"T_36af1_row5_col1\" class=\"data row5 col1\" >(2867, 83)</td>\n",
       "    </tr>\n",
       "    <tr>\n",
       "      <th id=\"T_36af1_level0_row6\" class=\"row_heading level0 row6\" >6</th>\n",
       "      <td id=\"T_36af1_row6_col0\" class=\"data row6 col0\" >Transformed test set shape</td>\n",
       "      <td id=\"T_36af1_row6_col1\" class=\"data row6 col1\" >(1230, 83)</td>\n",
       "    </tr>\n",
       "    <tr>\n",
       "      <th id=\"T_36af1_level0_row7\" class=\"row_heading level0 row7\" >7</th>\n",
       "      <td id=\"T_36af1_row7_col0\" class=\"data row7 col0\" >Numeric features</td>\n",
       "      <td id=\"T_36af1_row7_col1\" class=\"data row7 col1\" >20</td>\n",
       "    </tr>\n",
       "    <tr>\n",
       "      <th id=\"T_36af1_level0_row8\" class=\"row_heading level0 row8\" >8</th>\n",
       "      <td id=\"T_36af1_row8_col0\" class=\"data row8 col0\" >Categorical features</td>\n",
       "      <td id=\"T_36af1_row8_col1\" class=\"data row8 col1\" >5</td>\n",
       "    </tr>\n",
       "    <tr>\n",
       "      <th id=\"T_36af1_level0_row9\" class=\"row_heading level0 row9\" >9</th>\n",
       "      <td id=\"T_36af1_row9_col0\" class=\"data row9 col0\" >Preprocess</td>\n",
       "      <td id=\"T_36af1_row9_col1\" class=\"data row9 col1\" >True</td>\n",
       "    </tr>\n",
       "    <tr>\n",
       "      <th id=\"T_36af1_level0_row10\" class=\"row_heading level0 row10\" >10</th>\n",
       "      <td id=\"T_36af1_row10_col0\" class=\"data row10 col0\" >Imputation type</td>\n",
       "      <td id=\"T_36af1_row10_col1\" class=\"data row10 col1\" >simple</td>\n",
       "    </tr>\n",
       "    <tr>\n",
       "      <th id=\"T_36af1_level0_row11\" class=\"row_heading level0 row11\" >11</th>\n",
       "      <td id=\"T_36af1_row11_col0\" class=\"data row11 col0\" >Numeric imputation</td>\n",
       "      <td id=\"T_36af1_row11_col1\" class=\"data row11 col1\" >mean</td>\n",
       "    </tr>\n",
       "    <tr>\n",
       "      <th id=\"T_36af1_level0_row12\" class=\"row_heading level0 row12\" >12</th>\n",
       "      <td id=\"T_36af1_row12_col0\" class=\"data row12 col0\" >Categorical imputation</td>\n",
       "      <td id=\"T_36af1_row12_col1\" class=\"data row12 col1\" >mode</td>\n",
       "    </tr>\n",
       "    <tr>\n",
       "      <th id=\"T_36af1_level0_row13\" class=\"row_heading level0 row13\" >13</th>\n",
       "      <td id=\"T_36af1_row13_col0\" class=\"data row13 col0\" >Maximum one-hot encoding</td>\n",
       "      <td id=\"T_36af1_row13_col1\" class=\"data row13 col1\" >25</td>\n",
       "    </tr>\n",
       "    <tr>\n",
       "      <th id=\"T_36af1_level0_row14\" class=\"row_heading level0 row14\" >14</th>\n",
       "      <td id=\"T_36af1_row14_col0\" class=\"data row14 col0\" >Encoding method</td>\n",
       "      <td id=\"T_36af1_row14_col1\" class=\"data row14 col1\" >None</td>\n",
       "    </tr>\n",
       "    <tr>\n",
       "      <th id=\"T_36af1_level0_row15\" class=\"row_heading level0 row15\" >15</th>\n",
       "      <td id=\"T_36af1_row15_col0\" class=\"data row15 col0\" >Fold Generator</td>\n",
       "      <td id=\"T_36af1_row15_col1\" class=\"data row15 col1\" >StratifiedKFold</td>\n",
       "    </tr>\n",
       "    <tr>\n",
       "      <th id=\"T_36af1_level0_row16\" class=\"row_heading level0 row16\" >16</th>\n",
       "      <td id=\"T_36af1_row16_col0\" class=\"data row16 col0\" >Fold Number</td>\n",
       "      <td id=\"T_36af1_row16_col1\" class=\"data row16 col1\" >10</td>\n",
       "    </tr>\n",
       "    <tr>\n",
       "      <th id=\"T_36af1_level0_row17\" class=\"row_heading level0 row17\" >17</th>\n",
       "      <td id=\"T_36af1_row17_col0\" class=\"data row17 col0\" >CPU Jobs</td>\n",
       "      <td id=\"T_36af1_row17_col1\" class=\"data row17 col1\" >-1</td>\n",
       "    </tr>\n",
       "    <tr>\n",
       "      <th id=\"T_36af1_level0_row18\" class=\"row_heading level0 row18\" >18</th>\n",
       "      <td id=\"T_36af1_row18_col0\" class=\"data row18 col0\" >Use GPU</td>\n",
       "      <td id=\"T_36af1_row18_col1\" class=\"data row18 col1\" >False</td>\n",
       "    </tr>\n",
       "    <tr>\n",
       "      <th id=\"T_36af1_level0_row19\" class=\"row_heading level0 row19\" >19</th>\n",
       "      <td id=\"T_36af1_row19_col0\" class=\"data row19 col0\" >Log Experiment</td>\n",
       "      <td id=\"T_36af1_row19_col1\" class=\"data row19 col1\" >False</td>\n",
       "    </tr>\n",
       "    <tr>\n",
       "      <th id=\"T_36af1_level0_row20\" class=\"row_heading level0 row20\" >20</th>\n",
       "      <td id=\"T_36af1_row20_col0\" class=\"data row20 col0\" >Experiment Name</td>\n",
       "      <td id=\"T_36af1_row20_col1\" class=\"data row20 col1\" >clf-default-name</td>\n",
       "    </tr>\n",
       "    <tr>\n",
       "      <th id=\"T_36af1_level0_row21\" class=\"row_heading level0 row21\" >21</th>\n",
       "      <td id=\"T_36af1_row21_col0\" class=\"data row21 col0\" >USI</td>\n",
       "      <td id=\"T_36af1_row21_col1\" class=\"data row21 col1\" >1881</td>\n",
       "    </tr>\n",
       "  </tbody>\n",
       "</table>\n"
      ],
      "text/plain": [
       "<pandas.io.formats.style.Styler at 0x1ed18a51550>"
      ]
     },
     "metadata": {},
     "output_type": "display_data"
    }
   ],
   "source": [
    "reg_setup=setup(data=dataset\n",
    "                ,target='Team_Result')"
   ]
  },
  {
   "cell_type": "code",
   "execution_count": 35,
   "id": "d4aa8e18-79a8-4108-8bf9-176c5d9bf8c3",
   "metadata": {
    "editable": true,
    "slideshow": {
     "slide_type": ""
    },
    "tags": []
   },
   "outputs": [
    {
     "name": "stdout",
     "output_type": "stream",
     "text": [
      "Data for Modelling: (3687, 26)\n",
      "Unseen Data for Prediction: (410, 26)\n"
     ]
    }
   ],
   "source": [
    "data = dataset.sample(frac=0.9,random_state=123)\n",
    "data_unseen=dataset.drop(data.index)\n",
    "\n",
    "data.reset_index(drop=True,inplace=True)\n",
    "data_unseen.reset_index(drop=True,inplace=True)\n",
    "\n",
    "print(f'Data for Modelling: {str(data.shape)}')\n",
    "print(f'Unseen Data for Prediction: {str(data_unseen.shape)}')\n",
    "\n"
   ]
  },
  {
   "cell_type": "code",
   "execution_count": 36,
   "id": "b6d990b9-9f8a-45bc-bdf5-3eb330a9f7db",
   "metadata": {
    "editable": true,
    "slideshow": {
     "slide_type": ""
    },
    "tags": []
   },
   "outputs": [
    {
     "data": {
      "text/plain": [
       "Game_Hashkey                   3687\n",
       "Year                             22\n",
       "Round                            30\n",
       "Team                             18\n",
       "Opponent                         18\n",
       "Ground                           26\n",
       "Team_Result                       2\n",
       "Disposals_diff                  310\n",
       "Kicks_diff                      204\n",
       "Marks_diff                      170\n",
       "Handballs_diff                  212\n",
       "HitOuts_diff                    111\n",
       "Tackles_diff                     83\n",
       "Rebounds_diff                    73\n",
       "Inside50_diff                    93\n",
       "Clearances_diff                  61\n",
       "Clangers_diff                    64\n",
       "Frees_diff                       42\n",
       "FreesAgainst_diff                42\n",
       "ContestedPossessions_diff       110\n",
       "UncontestedPossessions_diff     277\n",
       "ContestedMarks_diff              39\n",
       "MarksInside50_diff               55\n",
       "OnePercenters_diff               75\n",
       "Bounces_diff                     75\n",
       "GoalAssists_diff                 43\n",
       "dtype: int64"
      ]
     },
     "execution_count": 36,
     "metadata": {},
     "output_type": "execute_result"
    }
   ],
   "source": [
    "data.nunique()"
   ]
  },
  {
   "cell_type": "code",
   "execution_count": 37,
   "id": "c5960bcc-02de-41f4-9b76-f0ae85d59796",
   "metadata": {
    "editable": true,
    "slideshow": {
     "slide_type": ""
    },
    "tags": []
   },
   "outputs": [
    {
     "data": {
      "text/plain": [
       "Index(['Game_Hashkey', 'Year', 'Round', 'Team', 'Opponent', 'Ground',\n",
       "       'Team_Result', 'Disposals_diff', 'Kicks_diff', 'Marks_diff',\n",
       "       'Handballs_diff', 'HitOuts_diff', 'Tackles_diff', 'Rebounds_diff',\n",
       "       'Inside50_diff', 'Clearances_diff', 'Clangers_diff', 'Frees_diff',\n",
       "       'FreesAgainst_diff', 'ContestedPossessions_diff',\n",
       "       'UncontestedPossessions_diff', 'ContestedMarks_diff',\n",
       "       'MarksInside50_diff', 'OnePercenters_diff', 'Bounces_diff',\n",
       "       'GoalAssists_diff'],\n",
       "      dtype='object')"
      ]
     },
     "execution_count": 37,
     "metadata": {},
     "output_type": "execute_result"
    }
   ],
   "source": [
    "data.columns"
   ]
  },
  {
   "cell_type": "code",
   "execution_count": 38,
   "id": "62f72902-25dd-451d-a13d-c13add81ebc5",
   "metadata": {
    "editable": true,
    "slideshow": {
     "slide_type": ""
    },
    "tags": []
   },
   "outputs": [],
   "source": [
    "numerical=[ 'Kicks_diff', 'Marks_diff',\n",
    "       'Handballs_diff', 'HitOuts_diff', 'Tackles_diff', 'Rebounds_diff',\n",
    "       'Inside50_diff', 'Clearances_diff', 'Clangers_diff', 'Frees_diff',\n",
    "       'FreesAgainst_diff', 'ContestedPossessions_diff',\n",
    "       'UncontestedPossessions_diff', 'ContestedMarks_diff',\n",
    "       'MarksInside50_diff', 'OnePercenters_diff', 'Bounces_diff',\n",
    "       'GoalAssists_diff']\n",
    "ignore=['Game_Hashkey', 'Year', 'Round', 'Team', 'Opponent', 'Ground','Disposals_diff'] # Diposal = kicks + Hadballs\n"
   ]
  },
  {
   "cell_type": "markdown",
   "id": "861a3969-3b4a-46e1-a942-0622b7a9a239",
   "metadata": {
    "editable": true,
    "slideshow": {
     "slide_type": ""
    },
    "tags": []
   },
   "source": [
    "## Seting up Envirornment in PyCaret"
   ]
  },
  {
   "cell_type": "markdown",
   "id": "f1d5bde2-9f4f-4855-805f-f164f352b2fb",
   "metadata": {
    "editable": true,
    "slideshow": {
     "slide_type": ""
    },
    "tags": []
   },
   "source": [
    "**setup():**\n",
    "\n",
    "This function initializes the training environment and creates the transformation pipeline. Setup function must be called before executing any other function. It takes two mandatory parameters: data and target. All the other parameters are optional."
   ]
  },
  {
   "cell_type": "code",
   "execution_count": 39,
   "id": "99b2165d-c004-4f5c-956b-d482d0147968",
   "metadata": {
    "editable": true,
    "slideshow": {
     "slide_type": ""
    },
    "tags": []
   },
   "outputs": [],
   "source": [
    "from pycaret.classification import *"
   ]
  },
  {
   "cell_type": "code",
   "execution_count": 40,
   "id": "6c5b1a02-ac4e-44ba-822b-ba9317b65d20",
   "metadata": {
    "editable": true,
    "slideshow": {
     "slide_type": ""
    },
    "tags": []
   },
   "outputs": [
    {
     "data": {
      "text/html": [
       "<style type=\"text/css\">\n",
       "</style>\n",
       "<table id=\"T_87aab\">\n",
       "  <thead>\n",
       "    <tr>\n",
       "      <th class=\"blank level0\" >&nbsp;</th>\n",
       "      <th id=\"T_87aab_level0_col0\" class=\"col_heading level0 col0\" >Description</th>\n",
       "      <th id=\"T_87aab_level0_col1\" class=\"col_heading level0 col1\" >Value</th>\n",
       "    </tr>\n",
       "  </thead>\n",
       "  <tbody>\n",
       "    <tr>\n",
       "      <th id=\"T_87aab_level0_row0\" class=\"row_heading level0 row0\" >0</th>\n",
       "      <td id=\"T_87aab_row0_col0\" class=\"data row0 col0\" >Session id</td>\n",
       "      <td id=\"T_87aab_row0_col1\" class=\"data row0 col1\" >555</td>\n",
       "    </tr>\n",
       "    <tr>\n",
       "      <th id=\"T_87aab_level0_row1\" class=\"row_heading level0 row1\" >1</th>\n",
       "      <td id=\"T_87aab_row1_col0\" class=\"data row1 col0\" >Target</td>\n",
       "      <td id=\"T_87aab_row1_col1\" class=\"data row1 col1\" >Team_Result</td>\n",
       "    </tr>\n",
       "    <tr>\n",
       "      <th id=\"T_87aab_level0_row2\" class=\"row_heading level0 row2\" >2</th>\n",
       "      <td id=\"T_87aab_row2_col0\" class=\"data row2 col0\" >Target type</td>\n",
       "      <td id=\"T_87aab_row2_col1\" class=\"data row2 col1\" >Binary</td>\n",
       "    </tr>\n",
       "    <tr>\n",
       "      <th id=\"T_87aab_level0_row3\" class=\"row_heading level0 row3\" >3</th>\n",
       "      <td id=\"T_87aab_row3_col0\" class=\"data row3 col0\" >Original data shape</td>\n",
       "      <td id=\"T_87aab_row3_col1\" class=\"data row3 col1\" >(3687, 26)</td>\n",
       "    </tr>\n",
       "    <tr>\n",
       "      <th id=\"T_87aab_level0_row4\" class=\"row_heading level0 row4\" >4</th>\n",
       "      <td id=\"T_87aab_row4_col0\" class=\"data row4 col0\" >Transformed data shape</td>\n",
       "      <td id=\"T_87aab_row4_col1\" class=\"data row4 col1\" >(3687, 19)</td>\n",
       "    </tr>\n",
       "    <tr>\n",
       "      <th id=\"T_87aab_level0_row5\" class=\"row_heading level0 row5\" >5</th>\n",
       "      <td id=\"T_87aab_row5_col0\" class=\"data row5 col0\" >Transformed train set shape</td>\n",
       "      <td id=\"T_87aab_row5_col1\" class=\"data row5 col1\" >(2949, 19)</td>\n",
       "    </tr>\n",
       "    <tr>\n",
       "      <th id=\"T_87aab_level0_row6\" class=\"row_heading level0 row6\" >6</th>\n",
       "      <td id=\"T_87aab_row6_col0\" class=\"data row6 col0\" >Transformed test set shape</td>\n",
       "      <td id=\"T_87aab_row6_col1\" class=\"data row6 col1\" >(738, 19)</td>\n",
       "    </tr>\n",
       "    <tr>\n",
       "      <th id=\"T_87aab_level0_row7\" class=\"row_heading level0 row7\" >7</th>\n",
       "      <td id=\"T_87aab_row7_col0\" class=\"data row7 col0\" >Ignore features</td>\n",
       "      <td id=\"T_87aab_row7_col1\" class=\"data row7 col1\" >7</td>\n",
       "    </tr>\n",
       "    <tr>\n",
       "      <th id=\"T_87aab_level0_row8\" class=\"row_heading level0 row8\" >8</th>\n",
       "      <td id=\"T_87aab_row8_col0\" class=\"data row8 col0\" >Numeric features</td>\n",
       "      <td id=\"T_87aab_row8_col1\" class=\"data row8 col1\" >18</td>\n",
       "    </tr>\n",
       "  </tbody>\n",
       "</table>\n"
      ],
      "text/plain": [
       "<pandas.io.formats.style.Styler at 0x1ed18ab2d50>"
      ]
     },
     "metadata": {},
     "output_type": "display_data"
    },
    {
     "data": {
      "text/plain": [
       "<pycaret.classification.oop.ClassificationExperiment at 0x1ed18f0e890>"
      ]
     },
     "execution_count": 40,
     "metadata": {},
     "output_type": "execute_result"
    }
   ],
   "source": [
    "exp1=ClassificationExperiment()\n",
    "exp1.setup(data=data\n",
    "           ,ignore_features=ignore\n",
    "           ,target='Team_Result'\n",
    "           ,session_id=555\n",
    "           ,train_size=0.8\n",
    "           ,preprocess=False\n",
    "           ,numeric_features=numerical)"
   ]
  },
  {
   "cell_type": "markdown",
   "id": "0c1a7e67-20af-4699-a69b-a69c82e48db6",
   "metadata": {
    "editable": true,
    "slideshow": {
     "slide_type": ""
    },
    "tags": []
   },
   "source": [
    "## Compare Models\n",
    "\n",
    "This function trains and evaluates performance of all estimators available in the model library using cross validation(CV). The output of this function is a score grid with average cross validated scores. Metrics evaluated during CV can be accessed using the get_metrics function. Custom metrics can be added or removed using add_metric and remove_metric function."
   ]
  },
  {
   "cell_type": "code",
   "execution_count": 41,
   "id": "e0803085-1578-432c-9dd2-65b05efbe1bf",
   "metadata": {
    "editable": true,
    "slideshow": {
     "slide_type": ""
    },
    "tags": []
   },
   "outputs": [
    {
     "data": {
      "text/html": [],
      "text/plain": [
       "<IPython.core.display.HTML object>"
      ]
     },
     "metadata": {},
     "output_type": "display_data"
    },
    {
     "data": {
      "text/html": [
       "<style type=\"text/css\">\n",
       "#T_e0908 th {\n",
       "  text-align: left;\n",
       "}\n",
       "#T_e0908_row0_col0, #T_e0908_row0_col3, #T_e0908_row1_col0, #T_e0908_row1_col1, #T_e0908_row1_col2, #T_e0908_row1_col3, #T_e0908_row1_col4, #T_e0908_row1_col5, #T_e0908_row1_col6, #T_e0908_row1_col7, #T_e0908_row2_col0, #T_e0908_row2_col1, #T_e0908_row2_col2, #T_e0908_row2_col3, #T_e0908_row2_col4, #T_e0908_row2_col5, #T_e0908_row2_col6, #T_e0908_row2_col7, #T_e0908_row3_col0, #T_e0908_row3_col1, #T_e0908_row3_col2, #T_e0908_row3_col3, #T_e0908_row3_col4, #T_e0908_row3_col5, #T_e0908_row3_col6, #T_e0908_row3_col7, #T_e0908_row4_col0, #T_e0908_row4_col1, #T_e0908_row4_col2, #T_e0908_row4_col3, #T_e0908_row4_col4, #T_e0908_row4_col5, #T_e0908_row4_col6, #T_e0908_row4_col7, #T_e0908_row5_col0, #T_e0908_row5_col1, #T_e0908_row5_col2, #T_e0908_row5_col3, #T_e0908_row5_col4, #T_e0908_row5_col5, #T_e0908_row5_col6, #T_e0908_row5_col7, #T_e0908_row6_col0, #T_e0908_row6_col1, #T_e0908_row6_col2, #T_e0908_row6_col3, #T_e0908_row6_col4, #T_e0908_row6_col5, #T_e0908_row6_col6, #T_e0908_row6_col7, #T_e0908_row7_col0, #T_e0908_row7_col1, #T_e0908_row7_col2, #T_e0908_row7_col3, #T_e0908_row7_col4, #T_e0908_row7_col5, #T_e0908_row7_col6, #T_e0908_row7_col7, #T_e0908_row8_col0, #T_e0908_row8_col1, #T_e0908_row8_col2, #T_e0908_row8_col3, #T_e0908_row8_col4, #T_e0908_row8_col5, #T_e0908_row8_col6, #T_e0908_row8_col7, #T_e0908_row9_col0, #T_e0908_row9_col1, #T_e0908_row9_col2, #T_e0908_row9_col3, #T_e0908_row9_col4, #T_e0908_row9_col5, #T_e0908_row9_col6, #T_e0908_row9_col7, #T_e0908_row10_col0, #T_e0908_row10_col1, #T_e0908_row10_col2, #T_e0908_row10_col3, #T_e0908_row10_col4, #T_e0908_row10_col5, #T_e0908_row10_col6, #T_e0908_row10_col7, #T_e0908_row11_col0, #T_e0908_row11_col1, #T_e0908_row11_col2, #T_e0908_row11_col3, #T_e0908_row11_col4, #T_e0908_row11_col5, #T_e0908_row11_col6, #T_e0908_row11_col7, #T_e0908_row12_col0, #T_e0908_row12_col1, #T_e0908_row12_col2, #T_e0908_row12_col3, #T_e0908_row12_col4, #T_e0908_row12_col5, #T_e0908_row12_col6, #T_e0908_row12_col7, #T_e0908_row13_col0, #T_e0908_row13_col1, #T_e0908_row13_col2, #T_e0908_row13_col3, #T_e0908_row13_col4, #T_e0908_row13_col5, #T_e0908_row13_col6, #T_e0908_row13_col7, #T_e0908_row14_col0, #T_e0908_row14_col1, #T_e0908_row14_col2, #T_e0908_row14_col4, #T_e0908_row14_col5, #T_e0908_row14_col6, #T_e0908_row14_col7 {\n",
       "  text-align: left;\n",
       "}\n",
       "#T_e0908_row0_col1, #T_e0908_row0_col2, #T_e0908_row0_col4, #T_e0908_row0_col5, #T_e0908_row0_col6, #T_e0908_row0_col7, #T_e0908_row14_col3 {\n",
       "  text-align: left;\n",
       "  background-color: yellow;\n",
       "}\n",
       "#T_e0908_row0_col8, #T_e0908_row2_col8, #T_e0908_row3_col8, #T_e0908_row4_col8, #T_e0908_row5_col8, #T_e0908_row6_col8, #T_e0908_row7_col8, #T_e0908_row8_col8, #T_e0908_row9_col8, #T_e0908_row10_col8, #T_e0908_row11_col8, #T_e0908_row12_col8, #T_e0908_row13_col8 {\n",
       "  text-align: left;\n",
       "  background-color: lightgrey;\n",
       "}\n",
       "#T_e0908_row1_col8, #T_e0908_row14_col8 {\n",
       "  text-align: left;\n",
       "  background-color: yellow;\n",
       "  background-color: lightgrey;\n",
       "}\n",
       "</style>\n",
       "<table id=\"T_e0908\">\n",
       "  <thead>\n",
       "    <tr>\n",
       "      <th class=\"blank level0\" >&nbsp;</th>\n",
       "      <th id=\"T_e0908_level0_col0\" class=\"col_heading level0 col0\" >Model</th>\n",
       "      <th id=\"T_e0908_level0_col1\" class=\"col_heading level0 col1\" >Accuracy</th>\n",
       "      <th id=\"T_e0908_level0_col2\" class=\"col_heading level0 col2\" >AUC</th>\n",
       "      <th id=\"T_e0908_level0_col3\" class=\"col_heading level0 col3\" >Recall</th>\n",
       "      <th id=\"T_e0908_level0_col4\" class=\"col_heading level0 col4\" >Prec.</th>\n",
       "      <th id=\"T_e0908_level0_col5\" class=\"col_heading level0 col5\" >F1</th>\n",
       "      <th id=\"T_e0908_level0_col6\" class=\"col_heading level0 col6\" >Kappa</th>\n",
       "      <th id=\"T_e0908_level0_col7\" class=\"col_heading level0 col7\" >MCC</th>\n",
       "      <th id=\"T_e0908_level0_col8\" class=\"col_heading level0 col8\" >TT (Sec)</th>\n",
       "    </tr>\n",
       "  </thead>\n",
       "  <tbody>\n",
       "    <tr>\n",
       "      <th id=\"T_e0908_level0_row0\" class=\"row_heading level0 row0\" >lr</th>\n",
       "      <td id=\"T_e0908_row0_col0\" class=\"data row0 col0\" >Logistic Regression</td>\n",
       "      <td id=\"T_e0908_row0_col1\" class=\"data row0 col1\" >0.9173</td>\n",
       "      <td id=\"T_e0908_row0_col2\" class=\"data row0 col2\" >0.9758</td>\n",
       "      <td id=\"T_e0908_row0_col3\" class=\"data row0 col3\" >0.9315</td>\n",
       "      <td id=\"T_e0908_row0_col4\" class=\"data row0 col4\" >0.9263</td>\n",
       "      <td id=\"T_e0908_row0_col5\" class=\"data row0 col5\" >0.9287</td>\n",
       "      <td id=\"T_e0908_row0_col6\" class=\"data row0 col6\" >0.8301</td>\n",
       "      <td id=\"T_e0908_row0_col7\" class=\"data row0 col7\" >0.8305</td>\n",
       "      <td id=\"T_e0908_row0_col8\" class=\"data row0 col8\" >0.4620</td>\n",
       "    </tr>\n",
       "    <tr>\n",
       "      <th id=\"T_e0908_level0_row1\" class=\"row_heading level0 row1\" >ridge</th>\n",
       "      <td id=\"T_e0908_row1_col0\" class=\"data row1 col0\" >Ridge Classifier</td>\n",
       "      <td id=\"T_e0908_row1_col1\" class=\"data row1 col1\" >0.9132</td>\n",
       "      <td id=\"T_e0908_row1_col2\" class=\"data row1 col2\" >0.0000</td>\n",
       "      <td id=\"T_e0908_row1_col3\" class=\"data row1 col3\" >0.9303</td>\n",
       "      <td id=\"T_e0908_row1_col4\" class=\"data row1 col4\" >0.9208</td>\n",
       "      <td id=\"T_e0908_row1_col5\" class=\"data row1 col5\" >0.9254</td>\n",
       "      <td id=\"T_e0908_row1_col6\" class=\"data row1 col6\" >0.8216</td>\n",
       "      <td id=\"T_e0908_row1_col7\" class=\"data row1 col7\" >0.8221</td>\n",
       "      <td id=\"T_e0908_row1_col8\" class=\"data row1 col8\" >0.0080</td>\n",
       "    </tr>\n",
       "    <tr>\n",
       "      <th id=\"T_e0908_level0_row2\" class=\"row_heading level0 row2\" >lda</th>\n",
       "      <td id=\"T_e0908_row2_col0\" class=\"data row2 col0\" >Linear Discriminant Analysis</td>\n",
       "      <td id=\"T_e0908_row2_col1\" class=\"data row2 col1\" >0.9132</td>\n",
       "      <td id=\"T_e0908_row2_col2\" class=\"data row2 col2\" >0.9740</td>\n",
       "      <td id=\"T_e0908_row2_col3\" class=\"data row2 col3\" >0.9297</td>\n",
       "      <td id=\"T_e0908_row2_col4\" class=\"data row2 col4\" >0.9213</td>\n",
       "      <td id=\"T_e0908_row2_col5\" class=\"data row2 col5\" >0.9253</td>\n",
       "      <td id=\"T_e0908_row2_col6\" class=\"data row2 col6\" >0.8217</td>\n",
       "      <td id=\"T_e0908_row2_col7\" class=\"data row2 col7\" >0.8221</td>\n",
       "      <td id=\"T_e0908_row2_col8\" class=\"data row2 col8\" >0.0090</td>\n",
       "    </tr>\n",
       "    <tr>\n",
       "      <th id=\"T_e0908_level0_row3\" class=\"row_heading level0 row3\" >qda</th>\n",
       "      <td id=\"T_e0908_row3_col0\" class=\"data row3 col0\" >Quadratic Discriminant Analysis</td>\n",
       "      <td id=\"T_e0908_row3_col1\" class=\"data row3 col1\" >0.9074</td>\n",
       "      <td id=\"T_e0908_row3_col2\" class=\"data row3 col2\" >0.9697</td>\n",
       "      <td id=\"T_e0908_row3_col3\" class=\"data row3 col3\" >0.9250</td>\n",
       "      <td id=\"T_e0908_row3_col4\" class=\"data row3 col4\" >0.9161</td>\n",
       "      <td id=\"T_e0908_row3_col5\" class=\"data row3 col5\" >0.9205</td>\n",
       "      <td id=\"T_e0908_row3_col6\" class=\"data row3 col6\" >0.8097</td>\n",
       "      <td id=\"T_e0908_row3_col7\" class=\"data row3 col7\" >0.8100</td>\n",
       "      <td id=\"T_e0908_row3_col8\" class=\"data row3 col8\" >0.0100</td>\n",
       "    </tr>\n",
       "    <tr>\n",
       "      <th id=\"T_e0908_level0_row4\" class=\"row_heading level0 row4\" >catboost</th>\n",
       "      <td id=\"T_e0908_row4_col0\" class=\"data row4 col0\" >CatBoost Classifier</td>\n",
       "      <td id=\"T_e0908_row4_col1\" class=\"data row4 col1\" >0.9000</td>\n",
       "      <td id=\"T_e0908_row4_col2\" class=\"data row4 col2\" >0.9688</td>\n",
       "      <td id=\"T_e0908_row4_col3\" class=\"data row4 col3\" >0.9203</td>\n",
       "      <td id=\"T_e0908_row4_col4\" class=\"data row4 col4\" >0.9084</td>\n",
       "      <td id=\"T_e0908_row4_col5\" class=\"data row4 col5\" >0.9141</td>\n",
       "      <td id=\"T_e0908_row4_col6\" class=\"data row4 col6\" >0.7944</td>\n",
       "      <td id=\"T_e0908_row4_col7\" class=\"data row4 col7\" >0.7950</td>\n",
       "      <td id=\"T_e0908_row4_col8\" class=\"data row4 col8\" >1.6650</td>\n",
       "    </tr>\n",
       "    <tr>\n",
       "      <th id=\"T_e0908_level0_row5\" class=\"row_heading level0 row5\" >gbc</th>\n",
       "      <td id=\"T_e0908_row5_col0\" class=\"data row5 col0\" >Gradient Boosting Classifier</td>\n",
       "      <td id=\"T_e0908_row5_col1\" class=\"data row5 col1\" >0.8966</td>\n",
       "      <td id=\"T_e0908_row5_col2\" class=\"data row5 col2\" >0.9656</td>\n",
       "      <td id=\"T_e0908_row5_col3\" class=\"data row5 col3\" >0.9174</td>\n",
       "      <td id=\"T_e0908_row5_col4\" class=\"data row5 col4\" >0.9055</td>\n",
       "      <td id=\"T_e0908_row5_col5\" class=\"data row5 col5\" >0.9113</td>\n",
       "      <td id=\"T_e0908_row5_col6\" class=\"data row5 col6\" >0.7873</td>\n",
       "      <td id=\"T_e0908_row5_col7\" class=\"data row5 col7\" >0.7878</td>\n",
       "      <td id=\"T_e0908_row5_col8\" class=\"data row5 col8\" >0.2310</td>\n",
       "    </tr>\n",
       "    <tr>\n",
       "      <th id=\"T_e0908_level0_row6\" class=\"row_heading level0 row6\" >lightgbm</th>\n",
       "      <td id=\"T_e0908_row6_col0\" class=\"data row6 col0\" >Light Gradient Boosting Machine</td>\n",
       "      <td id=\"T_e0908_row6_col1\" class=\"data row6 col1\" >0.8959</td>\n",
       "      <td id=\"T_e0908_row6_col2\" class=\"data row6 col2\" >0.9655</td>\n",
       "      <td id=\"T_e0908_row6_col3\" class=\"data row6 col3\" >0.9156</td>\n",
       "      <td id=\"T_e0908_row6_col4\" class=\"data row6 col4\" >0.9057</td>\n",
       "      <td id=\"T_e0908_row6_col5\" class=\"data row6 col5\" >0.9105</td>\n",
       "      <td id=\"T_e0908_row6_col6\" class=\"data row6 col6\" >0.7861</td>\n",
       "      <td id=\"T_e0908_row6_col7\" class=\"data row6 col7\" >0.7864</td>\n",
       "      <td id=\"T_e0908_row6_col8\" class=\"data row6 col8\" >0.0840</td>\n",
       "    </tr>\n",
       "    <tr>\n",
       "      <th id=\"T_e0908_level0_row7\" class=\"row_heading level0 row7\" >ada</th>\n",
       "      <td id=\"T_e0908_row7_col0\" class=\"data row7 col0\" >Ada Boost Classifier</td>\n",
       "      <td id=\"T_e0908_row7_col1\" class=\"data row7 col1\" >0.8915</td>\n",
       "      <td id=\"T_e0908_row7_col2\" class=\"data row7 col2\" >0.9632</td>\n",
       "      <td id=\"T_e0908_row7_col3\" class=\"data row7 col3\" >0.9063</td>\n",
       "      <td id=\"T_e0908_row7_col4\" class=\"data row7 col4\" >0.9064</td>\n",
       "      <td id=\"T_e0908_row7_col5\" class=\"data row7 col5\" >0.9062</td>\n",
       "      <td id=\"T_e0908_row7_col6\" class=\"data row7 col6\" >0.7775</td>\n",
       "      <td id=\"T_e0908_row7_col7\" class=\"data row7 col7\" >0.7779</td>\n",
       "      <td id=\"T_e0908_row7_col8\" class=\"data row7 col8\" >0.0840</td>\n",
       "    </tr>\n",
       "    <tr>\n",
       "      <th id=\"T_e0908_level0_row8\" class=\"row_heading level0 row8\" >rf</th>\n",
       "      <td id=\"T_e0908_row8_col0\" class=\"data row8 col0\" >Random Forest Classifier</td>\n",
       "      <td id=\"T_e0908_row8_col1\" class=\"data row8 col1\" >0.8851</td>\n",
       "      <td id=\"T_e0908_row8_col2\" class=\"data row8 col2\" >0.9589</td>\n",
       "      <td id=\"T_e0908_row8_col3\" class=\"data row8 col3\" >0.9080</td>\n",
       "      <td id=\"T_e0908_row8_col4\" class=\"data row8 col4\" >0.8958</td>\n",
       "      <td id=\"T_e0908_row8_col5\" class=\"data row8 col5\" >0.9015</td>\n",
       "      <td id=\"T_e0908_row8_col6\" class=\"data row8 col6\" >0.7634</td>\n",
       "      <td id=\"T_e0908_row8_col7\" class=\"data row8 col7\" >0.7644</td>\n",
       "      <td id=\"T_e0908_row8_col8\" class=\"data row8 col8\" >0.1830</td>\n",
       "    </tr>\n",
       "    <tr>\n",
       "      <th id=\"T_e0908_level0_row9\" class=\"row_heading level0 row9\" >et</th>\n",
       "      <td id=\"T_e0908_row9_col0\" class=\"data row9 col0\" >Extra Trees Classifier</td>\n",
       "      <td id=\"T_e0908_row9_col1\" class=\"data row9 col1\" >0.8847</td>\n",
       "      <td id=\"T_e0908_row9_col2\" class=\"data row9 col2\" >0.9600</td>\n",
       "      <td id=\"T_e0908_row9_col3\" class=\"data row9 col3\" >0.9174</td>\n",
       "      <td id=\"T_e0908_row9_col4\" class=\"data row9 col4\" >0.8877</td>\n",
       "      <td id=\"T_e0908_row9_col5\" class=\"data row9 col5\" >0.9021</td>\n",
       "      <td id=\"T_e0908_row9_col6\" class=\"data row9 col6\" >0.7620</td>\n",
       "      <td id=\"T_e0908_row9_col7\" class=\"data row9 col7\" >0.7631</td>\n",
       "      <td id=\"T_e0908_row9_col8\" class=\"data row9 col8\" >0.1150</td>\n",
       "    </tr>\n",
       "    <tr>\n",
       "      <th id=\"T_e0908_level0_row10\" class=\"row_heading level0 row10\" >svm</th>\n",
       "      <td id=\"T_e0908_row10_col0\" class=\"data row10 col0\" >SVM - Linear Kernel</td>\n",
       "      <td id=\"T_e0908_row10_col1\" class=\"data row10 col1\" >0.8840</td>\n",
       "      <td id=\"T_e0908_row10_col2\" class=\"data row10 col2\" >0.0000</td>\n",
       "      <td id=\"T_e0908_row10_col3\" class=\"data row10 col3\" >0.9027</td>\n",
       "      <td id=\"T_e0908_row10_col4\" class=\"data row10 col4\" >0.8982</td>\n",
       "      <td id=\"T_e0908_row10_col5\" class=\"data row10 col5\" >0.9000</td>\n",
       "      <td id=\"T_e0908_row10_col6\" class=\"data row10 col6\" >0.7619</td>\n",
       "      <td id=\"T_e0908_row10_col7\" class=\"data row10 col7\" >0.7629</td>\n",
       "      <td id=\"T_e0908_row10_col8\" class=\"data row10 col8\" >0.0110</td>\n",
       "    </tr>\n",
       "    <tr>\n",
       "      <th id=\"T_e0908_level0_row11\" class=\"row_heading level0 row11\" >nb</th>\n",
       "      <td id=\"T_e0908_row11_col0\" class=\"data row11 col0\" >Naive Bayes</td>\n",
       "      <td id=\"T_e0908_row11_col1\" class=\"data row11 col1\" >0.8538</td>\n",
       "      <td id=\"T_e0908_row11_col2\" class=\"data row11 col2\" >0.9332</td>\n",
       "      <td id=\"T_e0908_row11_col3\" class=\"data row11 col3\" >0.8682</td>\n",
       "      <td id=\"T_e0908_row11_col4\" class=\"data row11 col4\" >0.8783</td>\n",
       "      <td id=\"T_e0908_row11_col5\" class=\"data row11 col5\" >0.8730</td>\n",
       "      <td id=\"T_e0908_row11_col6\" class=\"data row11 col6\" >0.7009</td>\n",
       "      <td id=\"T_e0908_row11_col7\" class=\"data row11 col7\" >0.7014</td>\n",
       "      <td id=\"T_e0908_row11_col8\" class=\"data row11 col8\" >0.0090</td>\n",
       "    </tr>\n",
       "    <tr>\n",
       "      <th id=\"T_e0908_level0_row12\" class=\"row_heading level0 row12\" >dt</th>\n",
       "      <td id=\"T_e0908_row12_col0\" class=\"data row12 col0\" >Decision Tree Classifier</td>\n",
       "      <td id=\"T_e0908_row12_col1\" class=\"data row12 col1\" >0.8196</td>\n",
       "      <td id=\"T_e0908_row12_col2\" class=\"data row12 col2\" >0.8165</td>\n",
       "      <td id=\"T_e0908_row12_col3\" class=\"data row12 col3\" >0.8360</td>\n",
       "      <td id=\"T_e0908_row12_col4\" class=\"data row12 col4\" >0.8505</td>\n",
       "      <td id=\"T_e0908_row12_col5\" class=\"data row12 col5\" >0.8429</td>\n",
       "      <td id=\"T_e0908_row12_col6\" class=\"data row12 col6\" >0.6310</td>\n",
       "      <td id=\"T_e0908_row12_col7\" class=\"data row12 col7\" >0.6317</td>\n",
       "      <td id=\"T_e0908_row12_col8\" class=\"data row12 col8\" >0.0140</td>\n",
       "    </tr>\n",
       "    <tr>\n",
       "      <th id=\"T_e0908_level0_row13\" class=\"row_heading level0 row13\" >knn</th>\n",
       "      <td id=\"T_e0908_row13_col0\" class=\"data row13 col0\" >K Neighbors Classifier</td>\n",
       "      <td id=\"T_e0908_row13_col1\" class=\"data row13 col1\" >0.8193</td>\n",
       "      <td id=\"T_e0908_row13_col2\" class=\"data row13 col2\" >0.8840</td>\n",
       "      <td id=\"T_e0908_row13_col3\" class=\"data row13 col3\" >0.8811</td>\n",
       "      <td id=\"T_e0908_row13_col4\" class=\"data row13 col4\" >0.8204</td>\n",
       "      <td id=\"T_e0908_row13_col5\" class=\"data row13 col5\" >0.8493</td>\n",
       "      <td id=\"T_e0908_row13_col6\" class=\"data row13 col6\" >0.6242</td>\n",
       "      <td id=\"T_e0908_row13_col7\" class=\"data row13 col7\" >0.6277</td>\n",
       "      <td id=\"T_e0908_row13_col8\" class=\"data row13 col8\" >0.0330</td>\n",
       "    </tr>\n",
       "    <tr>\n",
       "      <th id=\"T_e0908_level0_row14\" class=\"row_heading level0 row14\" >dummy</th>\n",
       "      <td id=\"T_e0908_row14_col0\" class=\"data row14 col0\" >Dummy Classifier</td>\n",
       "      <td id=\"T_e0908_row14_col1\" class=\"data row14 col1\" >0.5788</td>\n",
       "      <td id=\"T_e0908_row14_col2\" class=\"data row14 col2\" >0.5000</td>\n",
       "      <td id=\"T_e0908_row14_col3\" class=\"data row14 col3\" >1.0000</td>\n",
       "      <td id=\"T_e0908_row14_col4\" class=\"data row14 col4\" >0.5788</td>\n",
       "      <td id=\"T_e0908_row14_col5\" class=\"data row14 col5\" >0.7332</td>\n",
       "      <td id=\"T_e0908_row14_col6\" class=\"data row14 col6\" >0.0000</td>\n",
       "      <td id=\"T_e0908_row14_col7\" class=\"data row14 col7\" >0.0000</td>\n",
       "      <td id=\"T_e0908_row14_col8\" class=\"data row14 col8\" >0.0080</td>\n",
       "    </tr>\n",
       "  </tbody>\n",
       "</table>\n"
      ],
      "text/plain": [
       "<pandas.io.formats.style.Styler at 0x1ed169b5fd0>"
      ]
     },
     "metadata": {},
     "output_type": "display_data"
    },
    {
     "data": {
      "text/html": [],
      "text/plain": [
       "<IPython.core.display.HTML object>"
      ]
     },
     "metadata": {},
     "output_type": "display_data"
    }
   ],
   "source": [
    "performance_exp1=exp1.compare_models(n_select=3)"
   ]
  },
  {
   "cell_type": "code",
   "execution_count": 13,
   "id": "28685f0a-6d22-4825-8c65-c63565e0d9da",
   "metadata": {
    "editable": true,
    "slideshow": {
     "slide_type": ""
    },
    "tags": []
   },
   "outputs": [
    {
     "data": {
      "text/plain": [
       "[LogisticRegression(C=1.0, class_weight=None, dual=False, fit_intercept=True,\n",
       "                    intercept_scaling=1, l1_ratio=None, max_iter=1000,\n",
       "                    multi_class='auto', n_jobs=None, penalty='l2',\n",
       "                    random_state=555, solver='lbfgs', tol=0.0001, verbose=0,\n",
       "                    warm_start=False),\n",
       " RidgeClassifier(alpha=1.0, class_weight=None, copy_X=True, fit_intercept=True,\n",
       "                 max_iter=None, positive=False, random_state=555, solver='auto',\n",
       "                 tol=0.0001),\n",
       " LinearDiscriminantAnalysis(covariance_estimator=None, n_components=None,\n",
       "                            priors=None, shrinkage=None, solver='svd',\n",
       "                            store_covariance=False, tol=0.0001)]"
      ]
     },
     "execution_count": 13,
     "metadata": {},
     "output_type": "execute_result"
    }
   ],
   "source": [
    "performance_exp1"
   ]
  },
  {
   "cell_type": "markdown",
   "id": "52187679-102d-4ac4-955e-3190705706e5",
   "metadata": {
    "editable": true,
    "slideshow": {
     "slide_type": ""
    },
    "tags": []
   },
   "source": [
    "## Create Model\n",
    "\n",
    "This function trains and evaluates the performance of a given estimator using cross validation. The output of this function is a score grid with CV scores by fold. Metrics evaluated during CV can be accessed using the get_metrics function. Custom metrics can be added or removed using add_metric and remove_metric function. All the available models can be accessed using the models function."
   ]
  },
  {
   "cell_type": "code",
   "execution_count": 14,
   "id": "d85f73b4-1098-4a51-a6b7-605d51884d48",
   "metadata": {
    "editable": true,
    "slideshow": {
     "slide_type": ""
    },
    "tags": []
   },
   "outputs": [
    {
     "data": {
      "text/html": [],
      "text/plain": [
       "<IPython.core.display.HTML object>"
      ]
     },
     "metadata": {},
     "output_type": "display_data"
    },
    {
     "data": {
      "text/html": [
       "<style type=\"text/css\">\n",
       "#T_bc8c1_row10_col0, #T_bc8c1_row10_col1, #T_bc8c1_row10_col2, #T_bc8c1_row10_col3, #T_bc8c1_row10_col4, #T_bc8c1_row10_col5, #T_bc8c1_row10_col6 {\n",
       "  background: yellow;\n",
       "}\n",
       "</style>\n",
       "<table id=\"T_bc8c1\">\n",
       "  <thead>\n",
       "    <tr>\n",
       "      <th class=\"blank level0\" >&nbsp;</th>\n",
       "      <th id=\"T_bc8c1_level0_col0\" class=\"col_heading level0 col0\" >Accuracy</th>\n",
       "      <th id=\"T_bc8c1_level0_col1\" class=\"col_heading level0 col1\" >AUC</th>\n",
       "      <th id=\"T_bc8c1_level0_col2\" class=\"col_heading level0 col2\" >Recall</th>\n",
       "      <th id=\"T_bc8c1_level0_col3\" class=\"col_heading level0 col3\" >Prec.</th>\n",
       "      <th id=\"T_bc8c1_level0_col4\" class=\"col_heading level0 col4\" >F1</th>\n",
       "      <th id=\"T_bc8c1_level0_col5\" class=\"col_heading level0 col5\" >Kappa</th>\n",
       "      <th id=\"T_bc8c1_level0_col6\" class=\"col_heading level0 col6\" >MCC</th>\n",
       "    </tr>\n",
       "    <tr>\n",
       "      <th class=\"index_name level0\" >Fold</th>\n",
       "      <th class=\"blank col0\" >&nbsp;</th>\n",
       "      <th class=\"blank col1\" >&nbsp;</th>\n",
       "      <th class=\"blank col2\" >&nbsp;</th>\n",
       "      <th class=\"blank col3\" >&nbsp;</th>\n",
       "      <th class=\"blank col4\" >&nbsp;</th>\n",
       "      <th class=\"blank col5\" >&nbsp;</th>\n",
       "      <th class=\"blank col6\" >&nbsp;</th>\n",
       "    </tr>\n",
       "  </thead>\n",
       "  <tbody>\n",
       "    <tr>\n",
       "      <th id=\"T_bc8c1_level0_row0\" class=\"row_heading level0 row0\" >0</th>\n",
       "      <td id=\"T_bc8c1_row0_col0\" class=\"data row0 col0\" >0.8949</td>\n",
       "      <td id=\"T_bc8c1_row0_col1\" class=\"data row0 col1\" >0.9688</td>\n",
       "      <td id=\"T_bc8c1_row0_col2\" class=\"data row0 col2\" >0.9181</td>\n",
       "      <td id=\"T_bc8c1_row0_col3\" class=\"data row0 col3\" >0.9023</td>\n",
       "      <td id=\"T_bc8c1_row0_col4\" class=\"data row0 col4\" >0.9101</td>\n",
       "      <td id=\"T_bc8c1_row0_col5\" class=\"data row0 col5\" >0.7836</td>\n",
       "      <td id=\"T_bc8c1_row0_col6\" class=\"data row0 col6\" >0.7838</td>\n",
       "    </tr>\n",
       "    <tr>\n",
       "      <th id=\"T_bc8c1_level0_row1\" class=\"row_heading level0 row1\" >1</th>\n",
       "      <td id=\"T_bc8c1_row1_col0\" class=\"data row1 col0\" >0.8949</td>\n",
       "      <td id=\"T_bc8c1_row1_col1\" class=\"data row1 col1\" >0.9697</td>\n",
       "      <td id=\"T_bc8c1_row1_col2\" class=\"data row1 col2\" >0.8889</td>\n",
       "      <td id=\"T_bc8c1_row1_col3\" class=\"data row1 col3\" >0.9268</td>\n",
       "      <td id=\"T_bc8c1_row1_col4\" class=\"data row1 col4\" >0.9075</td>\n",
       "      <td id=\"T_bc8c1_row1_col5\" class=\"data row1 col5\" >0.7860</td>\n",
       "      <td id=\"T_bc8c1_row1_col6\" class=\"data row1 col6\" >0.7869</td>\n",
       "    </tr>\n",
       "    <tr>\n",
       "      <th id=\"T_bc8c1_level0_row2\" class=\"row_heading level0 row2\" >2</th>\n",
       "      <td id=\"T_bc8c1_row2_col0\" class=\"data row2 col0\" >0.9356</td>\n",
       "      <td id=\"T_bc8c1_row2_col1\" class=\"data row2 col1\" >0.9827</td>\n",
       "      <td id=\"T_bc8c1_row2_col2\" class=\"data row2 col2\" >0.9532</td>\n",
       "      <td id=\"T_bc8c1_row2_col3\" class=\"data row2 col3\" >0.9368</td>\n",
       "      <td id=\"T_bc8c1_row2_col4\" class=\"data row2 col4\" >0.9449</td>\n",
       "      <td id=\"T_bc8c1_row2_col5\" class=\"data row2 col5\" >0.8674</td>\n",
       "      <td id=\"T_bc8c1_row2_col6\" class=\"data row2 col6\" >0.8676</td>\n",
       "    </tr>\n",
       "    <tr>\n",
       "      <th id=\"T_bc8c1_level0_row3\" class=\"row_heading level0 row3\" >3</th>\n",
       "      <td id=\"T_bc8c1_row3_col0\" class=\"data row3 col0\" >0.9085</td>\n",
       "      <td id=\"T_bc8c1_row3_col1\" class=\"data row3 col1\" >0.9664</td>\n",
       "      <td id=\"T_bc8c1_row3_col2\" class=\"data row3 col2\" >0.9240</td>\n",
       "      <td id=\"T_bc8c1_row3_col3\" class=\"data row3 col3\" >0.9186</td>\n",
       "      <td id=\"T_bc8c1_row3_col4\" class=\"data row3 col4\" >0.9213</td>\n",
       "      <td id=\"T_bc8c1_row3_col5\" class=\"data row3 col5\" >0.8120</td>\n",
       "      <td id=\"T_bc8c1_row3_col6\" class=\"data row3 col6\" >0.8120</td>\n",
       "    </tr>\n",
       "    <tr>\n",
       "      <th id=\"T_bc8c1_level0_row4\" class=\"row_heading level0 row4\" >4</th>\n",
       "      <td id=\"T_bc8c1_row4_col0\" class=\"data row4 col0\" >0.9288</td>\n",
       "      <td id=\"T_bc8c1_row4_col1\" class=\"data row4 col1\" >0.9798</td>\n",
       "      <td id=\"T_bc8c1_row4_col2\" class=\"data row4 col2\" >0.9415</td>\n",
       "      <td id=\"T_bc8c1_row4_col3\" class=\"data row4 col3\" >0.9360</td>\n",
       "      <td id=\"T_bc8c1_row4_col4\" class=\"data row4 col4\" >0.9388</td>\n",
       "      <td id=\"T_bc8c1_row4_col5\" class=\"data row4 col5\" >0.8538</td>\n",
       "      <td id=\"T_bc8c1_row4_col6\" class=\"data row4 col6\" >0.8538</td>\n",
       "    </tr>\n",
       "    <tr>\n",
       "      <th id=\"T_bc8c1_level0_row5\" class=\"row_heading level0 row5\" >5</th>\n",
       "      <td id=\"T_bc8c1_row5_col0\" class=\"data row5 col0\" >0.9220</td>\n",
       "      <td id=\"T_bc8c1_row5_col1\" class=\"data row5 col1\" >0.9792</td>\n",
       "      <td id=\"T_bc8c1_row5_col2\" class=\"data row5 col2\" >0.9532</td>\n",
       "      <td id=\"T_bc8c1_row5_col3\" class=\"data row5 col3\" >0.9157</td>\n",
       "      <td id=\"T_bc8c1_row5_col4\" class=\"data row5 col4\" >0.9341</td>\n",
       "      <td id=\"T_bc8c1_row5_col5\" class=\"data row5 col5\" >0.8388</td>\n",
       "      <td id=\"T_bc8c1_row5_col6\" class=\"data row5 col6\" >0.8398</td>\n",
       "    </tr>\n",
       "    <tr>\n",
       "      <th id=\"T_bc8c1_level0_row6\" class=\"row_heading level0 row6\" >6</th>\n",
       "      <td id=\"T_bc8c1_row6_col0\" class=\"data row6 col0\" >0.9017</td>\n",
       "      <td id=\"T_bc8c1_row6_col1\" class=\"data row6 col1\" >0.9754</td>\n",
       "      <td id=\"T_bc8c1_row6_col2\" class=\"data row6 col2\" >0.9123</td>\n",
       "      <td id=\"T_bc8c1_row6_col3\" class=\"data row6 col3\" >0.9176</td>\n",
       "      <td id=\"T_bc8c1_row6_col4\" class=\"data row6 col4\" >0.9150</td>\n",
       "      <td id=\"T_bc8c1_row6_col5\" class=\"data row6 col5\" >0.7985</td>\n",
       "      <td id=\"T_bc8c1_row6_col6\" class=\"data row6 col6\" >0.7985</td>\n",
       "    </tr>\n",
       "    <tr>\n",
       "      <th id=\"T_bc8c1_level0_row7\" class=\"row_heading level0 row7\" >7</th>\n",
       "      <td id=\"T_bc8c1_row7_col0\" class=\"data row7 col0\" >0.9220</td>\n",
       "      <td id=\"T_bc8c1_row7_col1\" class=\"data row7 col1\" >0.9724</td>\n",
       "      <td id=\"T_bc8c1_row7_col2\" class=\"data row7 col2\" >0.9294</td>\n",
       "      <td id=\"T_bc8c1_row7_col3\" class=\"data row7 col3\" >0.9349</td>\n",
       "      <td id=\"T_bc8c1_row7_col4\" class=\"data row7 col4\" >0.9322</td>\n",
       "      <td id=\"T_bc8c1_row7_col5\" class=\"data row7 col5\" >0.8405</td>\n",
       "      <td id=\"T_bc8c1_row7_col6\" class=\"data row7 col6\" >0.8405</td>\n",
       "    </tr>\n",
       "    <tr>\n",
       "      <th id=\"T_bc8c1_level0_row8\" class=\"row_heading level0 row8\" >8</th>\n",
       "      <td id=\"T_bc8c1_row8_col0\" class=\"data row8 col0\" >0.9492</td>\n",
       "      <td id=\"T_bc8c1_row8_col1\" class=\"data row8 col1\" >0.9869</td>\n",
       "      <td id=\"T_bc8c1_row8_col2\" class=\"data row8 col2\" >0.9471</td>\n",
       "      <td id=\"T_bc8c1_row8_col3\" class=\"data row8 col3\" >0.9641</td>\n",
       "      <td id=\"T_bc8c1_row8_col4\" class=\"data row8 col4\" >0.9555</td>\n",
       "      <td id=\"T_bc8c1_row8_col5\" class=\"data row8 col5\" >0.8962</td>\n",
       "      <td id=\"T_bc8c1_row8_col6\" class=\"data row8 col6\" >0.8964</td>\n",
       "    </tr>\n",
       "    <tr>\n",
       "      <th id=\"T_bc8c1_level0_row9\" class=\"row_heading level0 row9\" >9</th>\n",
       "      <td id=\"T_bc8c1_row9_col0\" class=\"data row9 col0\" >0.9150</td>\n",
       "      <td id=\"T_bc8c1_row9_col1\" class=\"data row9 col1\" >0.9762</td>\n",
       "      <td id=\"T_bc8c1_row9_col2\" class=\"data row9 col2\" >0.9471</td>\n",
       "      <td id=\"T_bc8c1_row9_col3\" class=\"data row9 col3\" >0.9096</td>\n",
       "      <td id=\"T_bc8c1_row9_col4\" class=\"data row9 col4\" >0.9280</td>\n",
       "      <td id=\"T_bc8c1_row9_col5\" class=\"data row9 col5\" >0.8243</td>\n",
       "      <td id=\"T_bc8c1_row9_col6\" class=\"data row9 col6\" >0.8253</td>\n",
       "    </tr>\n",
       "    <tr>\n",
       "      <th id=\"T_bc8c1_level0_row10\" class=\"row_heading level0 row10\" >Mean</th>\n",
       "      <td id=\"T_bc8c1_row10_col0\" class=\"data row10 col0\" >0.9173</td>\n",
       "      <td id=\"T_bc8c1_row10_col1\" class=\"data row10 col1\" >0.9758</td>\n",
       "      <td id=\"T_bc8c1_row10_col2\" class=\"data row10 col2\" >0.9315</td>\n",
       "      <td id=\"T_bc8c1_row10_col3\" class=\"data row10 col3\" >0.9263</td>\n",
       "      <td id=\"T_bc8c1_row10_col4\" class=\"data row10 col4\" >0.9287</td>\n",
       "      <td id=\"T_bc8c1_row10_col5\" class=\"data row10 col5\" >0.8301</td>\n",
       "      <td id=\"T_bc8c1_row10_col6\" class=\"data row10 col6\" >0.8305</td>\n",
       "    </tr>\n",
       "    <tr>\n",
       "      <th id=\"T_bc8c1_level0_row11\" class=\"row_heading level0 row11\" >Std</th>\n",
       "      <td id=\"T_bc8c1_row11_col0\" class=\"data row11 col0\" >0.0169</td>\n",
       "      <td id=\"T_bc8c1_row11_col1\" class=\"data row11 col1\" >0.0062</td>\n",
       "      <td id=\"T_bc8c1_row11_col2\" class=\"data row11 col2\" >0.0199</td>\n",
       "      <td id=\"T_bc8c1_row11_col3\" class=\"data row11 col3\" >0.0168</td>\n",
       "      <td id=\"T_bc8c1_row11_col4\" class=\"data row11 col4\" >0.0147</td>\n",
       "      <td id=\"T_bc8c1_row11_col5\" class=\"data row11 col5\" >0.0346</td>\n",
       "      <td id=\"T_bc8c1_row11_col6\" class=\"data row11 col6\" >0.0345</td>\n",
       "    </tr>\n",
       "  </tbody>\n",
       "</table>\n"
      ],
      "text/plain": [
       "<pandas.io.formats.style.Styler at 0x1ed169a3ed0>"
      ]
     },
     "metadata": {},
     "output_type": "display_data"
    },
    {
     "data": {
      "text/html": [],
      "text/plain": [
       "<IPython.core.display.HTML object>"
      ]
     },
     "metadata": {},
     "output_type": "display_data"
    }
   ],
   "source": [
    "lr = exp1.create_model('lr')"
   ]
  },
  {
   "cell_type": "markdown",
   "id": "9237fc36-4f8e-429f-8d53-fb01ed7bc885",
   "metadata": {
    "editable": true,
    "slideshow": {
     "slide_type": ""
    },
    "tags": []
   },
   "source": [
    "## Tune Model\n",
    "\n",
    "This function tunes the hyperparameters of a given estimator. The output of this function is a score grid with CV scores by fold of the best selected model based on optimize parameter. Metrics evaluated during CV can be accessed using the get_metrics function. Custom metrics can be added or removed using add_metric and remove_metric function."
   ]
  },
  {
   "cell_type": "code",
   "execution_count": 15,
   "id": "bda12e3d-1894-4163-993e-5e59809d1ee1",
   "metadata": {
    "editable": true,
    "slideshow": {
     "slide_type": ""
    },
    "tags": []
   },
   "outputs": [
    {
     "data": {
      "text/html": [],
      "text/plain": [
       "<IPython.core.display.HTML object>"
      ]
     },
     "metadata": {},
     "output_type": "display_data"
    },
    {
     "data": {
      "text/html": [
       "<style type=\"text/css\">\n",
       "#T_c9740_row10_col0, #T_c9740_row10_col1, #T_c9740_row10_col2, #T_c9740_row10_col3, #T_c9740_row10_col4, #T_c9740_row10_col5, #T_c9740_row10_col6 {\n",
       "  background: yellow;\n",
       "}\n",
       "</style>\n",
       "<table id=\"T_c9740\">\n",
       "  <thead>\n",
       "    <tr>\n",
       "      <th class=\"blank level0\" >&nbsp;</th>\n",
       "      <th id=\"T_c9740_level0_col0\" class=\"col_heading level0 col0\" >Accuracy</th>\n",
       "      <th id=\"T_c9740_level0_col1\" class=\"col_heading level0 col1\" >AUC</th>\n",
       "      <th id=\"T_c9740_level0_col2\" class=\"col_heading level0 col2\" >Recall</th>\n",
       "      <th id=\"T_c9740_level0_col3\" class=\"col_heading level0 col3\" >Prec.</th>\n",
       "      <th id=\"T_c9740_level0_col4\" class=\"col_heading level0 col4\" >F1</th>\n",
       "      <th id=\"T_c9740_level0_col5\" class=\"col_heading level0 col5\" >Kappa</th>\n",
       "      <th id=\"T_c9740_level0_col6\" class=\"col_heading level0 col6\" >MCC</th>\n",
       "    </tr>\n",
       "    <tr>\n",
       "      <th class=\"index_name level0\" >Fold</th>\n",
       "      <th class=\"blank col0\" >&nbsp;</th>\n",
       "      <th class=\"blank col1\" >&nbsp;</th>\n",
       "      <th class=\"blank col2\" >&nbsp;</th>\n",
       "      <th class=\"blank col3\" >&nbsp;</th>\n",
       "      <th class=\"blank col4\" >&nbsp;</th>\n",
       "      <th class=\"blank col5\" >&nbsp;</th>\n",
       "      <th class=\"blank col6\" >&nbsp;</th>\n",
       "    </tr>\n",
       "  </thead>\n",
       "  <tbody>\n",
       "    <tr>\n",
       "      <th id=\"T_c9740_level0_row0\" class=\"row_heading level0 row0\" >0</th>\n",
       "      <td id=\"T_c9740_row0_col0\" class=\"data row0 col0\" >0.8949</td>\n",
       "      <td id=\"T_c9740_row0_col1\" class=\"data row0 col1\" >0.9690</td>\n",
       "      <td id=\"T_c9740_row0_col2\" class=\"data row0 col2\" >0.9181</td>\n",
       "      <td id=\"T_c9740_row0_col3\" class=\"data row0 col3\" >0.9023</td>\n",
       "      <td id=\"T_c9740_row0_col4\" class=\"data row0 col4\" >0.9101</td>\n",
       "      <td id=\"T_c9740_row0_col5\" class=\"data row0 col5\" >0.7836</td>\n",
       "      <td id=\"T_c9740_row0_col6\" class=\"data row0 col6\" >0.7838</td>\n",
       "    </tr>\n",
       "    <tr>\n",
       "      <th id=\"T_c9740_level0_row1\" class=\"row_heading level0 row1\" >1</th>\n",
       "      <td id=\"T_c9740_row1_col0\" class=\"data row1 col0\" >0.8949</td>\n",
       "      <td id=\"T_c9740_row1_col1\" class=\"data row1 col1\" >0.9694</td>\n",
       "      <td id=\"T_c9740_row1_col2\" class=\"data row1 col2\" >0.8889</td>\n",
       "      <td id=\"T_c9740_row1_col3\" class=\"data row1 col3\" >0.9268</td>\n",
       "      <td id=\"T_c9740_row1_col4\" class=\"data row1 col4\" >0.9075</td>\n",
       "      <td id=\"T_c9740_row1_col5\" class=\"data row1 col5\" >0.7860</td>\n",
       "      <td id=\"T_c9740_row1_col6\" class=\"data row1 col6\" >0.7869</td>\n",
       "    </tr>\n",
       "    <tr>\n",
       "      <th id=\"T_c9740_level0_row2\" class=\"row_heading level0 row2\" >2</th>\n",
       "      <td id=\"T_c9740_row2_col0\" class=\"data row2 col0\" >0.9356</td>\n",
       "      <td id=\"T_c9740_row2_col1\" class=\"data row2 col1\" >0.9828</td>\n",
       "      <td id=\"T_c9740_row2_col2\" class=\"data row2 col2\" >0.9532</td>\n",
       "      <td id=\"T_c9740_row2_col3\" class=\"data row2 col3\" >0.9368</td>\n",
       "      <td id=\"T_c9740_row2_col4\" class=\"data row2 col4\" >0.9449</td>\n",
       "      <td id=\"T_c9740_row2_col5\" class=\"data row2 col5\" >0.8674</td>\n",
       "      <td id=\"T_c9740_row2_col6\" class=\"data row2 col6\" >0.8676</td>\n",
       "    </tr>\n",
       "    <tr>\n",
       "      <th id=\"T_c9740_level0_row3\" class=\"row_heading level0 row3\" >3</th>\n",
       "      <td id=\"T_c9740_row3_col0\" class=\"data row3 col0\" >0.9153</td>\n",
       "      <td id=\"T_c9740_row3_col1\" class=\"data row3 col1\" >0.9666</td>\n",
       "      <td id=\"T_c9740_row3_col2\" class=\"data row3 col2\" >0.9240</td>\n",
       "      <td id=\"T_c9740_row3_col3\" class=\"data row3 col3\" >0.9294</td>\n",
       "      <td id=\"T_c9740_row3_col4\" class=\"data row3 col4\" >0.9267</td>\n",
       "      <td id=\"T_c9740_row3_col5\" class=\"data row3 col5\" >0.8263</td>\n",
       "      <td id=\"T_c9740_row3_col6\" class=\"data row3 col6\" >0.8263</td>\n",
       "    </tr>\n",
       "    <tr>\n",
       "      <th id=\"T_c9740_level0_row4\" class=\"row_heading level0 row4\" >4</th>\n",
       "      <td id=\"T_c9740_row4_col0\" class=\"data row4 col0\" >0.9288</td>\n",
       "      <td id=\"T_c9740_row4_col1\" class=\"data row4 col1\" >0.9797</td>\n",
       "      <td id=\"T_c9740_row4_col2\" class=\"data row4 col2\" >0.9415</td>\n",
       "      <td id=\"T_c9740_row4_col3\" class=\"data row4 col3\" >0.9360</td>\n",
       "      <td id=\"T_c9740_row4_col4\" class=\"data row4 col4\" >0.9388</td>\n",
       "      <td id=\"T_c9740_row4_col5\" class=\"data row4 col5\" >0.8538</td>\n",
       "      <td id=\"T_c9740_row4_col6\" class=\"data row4 col6\" >0.8538</td>\n",
       "    </tr>\n",
       "    <tr>\n",
       "      <th id=\"T_c9740_level0_row5\" class=\"row_heading level0 row5\" >5</th>\n",
       "      <td id=\"T_c9740_row5_col0\" class=\"data row5 col0\" >0.9220</td>\n",
       "      <td id=\"T_c9740_row5_col1\" class=\"data row5 col1\" >0.9791</td>\n",
       "      <td id=\"T_c9740_row5_col2\" class=\"data row5 col2\" >0.9532</td>\n",
       "      <td id=\"T_c9740_row5_col3\" class=\"data row5 col3\" >0.9157</td>\n",
       "      <td id=\"T_c9740_row5_col4\" class=\"data row5 col4\" >0.9341</td>\n",
       "      <td id=\"T_c9740_row5_col5\" class=\"data row5 col5\" >0.8388</td>\n",
       "      <td id=\"T_c9740_row5_col6\" class=\"data row5 col6\" >0.8398</td>\n",
       "    </tr>\n",
       "    <tr>\n",
       "      <th id=\"T_c9740_level0_row6\" class=\"row_heading level0 row6\" >6</th>\n",
       "      <td id=\"T_c9740_row6_col0\" class=\"data row6 col0\" >0.9017</td>\n",
       "      <td id=\"T_c9740_row6_col1\" class=\"data row6 col1\" >0.9752</td>\n",
       "      <td id=\"T_c9740_row6_col2\" class=\"data row6 col2\" >0.9123</td>\n",
       "      <td id=\"T_c9740_row6_col3\" class=\"data row6 col3\" >0.9176</td>\n",
       "      <td id=\"T_c9740_row6_col4\" class=\"data row6 col4\" >0.9150</td>\n",
       "      <td id=\"T_c9740_row6_col5\" class=\"data row6 col5\" >0.7985</td>\n",
       "      <td id=\"T_c9740_row6_col6\" class=\"data row6 col6\" >0.7985</td>\n",
       "    </tr>\n",
       "    <tr>\n",
       "      <th id=\"T_c9740_level0_row7\" class=\"row_heading level0 row7\" >7</th>\n",
       "      <td id=\"T_c9740_row7_col0\" class=\"data row7 col0\" >0.9254</td>\n",
       "      <td id=\"T_c9740_row7_col1\" class=\"data row7 col1\" >0.9728</td>\n",
       "      <td id=\"T_c9740_row7_col2\" class=\"data row7 col2\" >0.9294</td>\n",
       "      <td id=\"T_c9740_row7_col3\" class=\"data row7 col3\" >0.9405</td>\n",
       "      <td id=\"T_c9740_row7_col4\" class=\"data row7 col4\" >0.9349</td>\n",
       "      <td id=\"T_c9740_row7_col5\" class=\"data row7 col5\" >0.8476</td>\n",
       "      <td id=\"T_c9740_row7_col6\" class=\"data row7 col6\" >0.8477</td>\n",
       "    </tr>\n",
       "    <tr>\n",
       "      <th id=\"T_c9740_level0_row8\" class=\"row_heading level0 row8\" >8</th>\n",
       "      <td id=\"T_c9740_row8_col0\" class=\"data row8 col0\" >0.9492</td>\n",
       "      <td id=\"T_c9740_row8_col1\" class=\"data row8 col1\" >0.9869</td>\n",
       "      <td id=\"T_c9740_row8_col2\" class=\"data row8 col2\" >0.9471</td>\n",
       "      <td id=\"T_c9740_row8_col3\" class=\"data row8 col3\" >0.9641</td>\n",
       "      <td id=\"T_c9740_row8_col4\" class=\"data row8 col4\" >0.9555</td>\n",
       "      <td id=\"T_c9740_row8_col5\" class=\"data row8 col5\" >0.8962</td>\n",
       "      <td id=\"T_c9740_row8_col6\" class=\"data row8 col6\" >0.8964</td>\n",
       "    </tr>\n",
       "    <tr>\n",
       "      <th id=\"T_c9740_level0_row9\" class=\"row_heading level0 row9\" >9</th>\n",
       "      <td id=\"T_c9740_row9_col0\" class=\"data row9 col0\" >0.9150</td>\n",
       "      <td id=\"T_c9740_row9_col1\" class=\"data row9 col1\" >0.9766</td>\n",
       "      <td id=\"T_c9740_row9_col2\" class=\"data row9 col2\" >0.9471</td>\n",
       "      <td id=\"T_c9740_row9_col3\" class=\"data row9 col3\" >0.9096</td>\n",
       "      <td id=\"T_c9740_row9_col4\" class=\"data row9 col4\" >0.9280</td>\n",
       "      <td id=\"T_c9740_row9_col5\" class=\"data row9 col5\" >0.8243</td>\n",
       "      <td id=\"T_c9740_row9_col6\" class=\"data row9 col6\" >0.8253</td>\n",
       "    </tr>\n",
       "    <tr>\n",
       "      <th id=\"T_c9740_level0_row10\" class=\"row_heading level0 row10\" >Mean</th>\n",
       "      <td id=\"T_c9740_row10_col0\" class=\"data row10 col0\" >0.9183</td>\n",
       "      <td id=\"T_c9740_row10_col1\" class=\"data row10 col1\" >0.9758</td>\n",
       "      <td id=\"T_c9740_row10_col2\" class=\"data row10 col2\" >0.9315</td>\n",
       "      <td id=\"T_c9740_row10_col3\" class=\"data row10 col3\" >0.9279</td>\n",
       "      <td id=\"T_c9740_row10_col4\" class=\"data row10 col4\" >0.9295</td>\n",
       "      <td id=\"T_c9740_row10_col5\" class=\"data row10 col5\" >0.8322</td>\n",
       "      <td id=\"T_c9740_row10_col6\" class=\"data row10 col6\" >0.8326</td>\n",
       "    </tr>\n",
       "    <tr>\n",
       "      <th id=\"T_c9740_level0_row11\" class=\"row_heading level0 row11\" >Std</th>\n",
       "      <td id=\"T_c9740_row11_col0\" class=\"data row11 col0\" >0.0168</td>\n",
       "      <td id=\"T_c9740_row11_col1\" class=\"data row11 col1\" >0.0062</td>\n",
       "      <td id=\"T_c9740_row11_col2\" class=\"data row11 col2\" >0.0199</td>\n",
       "      <td id=\"T_c9740_row11_col3\" class=\"data row11 col3\" >0.0169</td>\n",
       "      <td id=\"T_c9740_row11_col4\" class=\"data row11 col4\" >0.0146</td>\n",
       "      <td id=\"T_c9740_row11_col5\" class=\"data row11 col5\" >0.0344</td>\n",
       "      <td id=\"T_c9740_row11_col6\" class=\"data row11 col6\" >0.0343</td>\n",
       "    </tr>\n",
       "  </tbody>\n",
       "</table>\n"
      ],
      "text/plain": [
       "<pandas.io.formats.style.Styler at 0x1ed169b00d0>"
      ]
     },
     "metadata": {},
     "output_type": "display_data"
    },
    {
     "data": {
      "text/html": [],
      "text/plain": [
       "<IPython.core.display.HTML object>"
      ]
     },
     "metadata": {},
     "output_type": "display_data"
    },
    {
     "name": "stdout",
     "output_type": "stream",
     "text": [
      "Fitting 10 folds for each of 10 candidates, totalling 100 fits\n"
     ]
    }
   ],
   "source": [
    "tune_lr=exp1.tune_model(lr)"
   ]
  },
  {
   "cell_type": "code",
   "execution_count": 16,
   "id": "71257ce4-b1b7-4ece-8355-3a25d048e99b",
   "metadata": {
    "editable": true,
    "slideshow": {
     "slide_type": ""
    },
    "tags": []
   },
   "outputs": [
    {
     "data": {
      "text/html": [
       "<style>#sk-container-id-1 {color: black;background-color: white;}#sk-container-id-1 pre{padding: 0;}#sk-container-id-1 div.sk-toggleable {background-color: white;}#sk-container-id-1 label.sk-toggleable__label {cursor: pointer;display: block;width: 100%;margin-bottom: 0;padding: 0.3em;box-sizing: border-box;text-align: center;}#sk-container-id-1 label.sk-toggleable__label-arrow:before {content: \"▸\";float: left;margin-right: 0.25em;color: #696969;}#sk-container-id-1 label.sk-toggleable__label-arrow:hover:before {color: black;}#sk-container-id-1 div.sk-estimator:hover label.sk-toggleable__label-arrow:before {color: black;}#sk-container-id-1 div.sk-toggleable__content {max-height: 0;max-width: 0;overflow: hidden;text-align: left;background-color: #f0f8ff;}#sk-container-id-1 div.sk-toggleable__content pre {margin: 0.2em;color: black;border-radius: 0.25em;background-color: #f0f8ff;}#sk-container-id-1 input.sk-toggleable__control:checked~div.sk-toggleable__content {max-height: 200px;max-width: 100%;overflow: auto;}#sk-container-id-1 input.sk-toggleable__control:checked~label.sk-toggleable__label-arrow:before {content: \"▾\";}#sk-container-id-1 div.sk-estimator input.sk-toggleable__control:checked~label.sk-toggleable__label {background-color: #d4ebff;}#sk-container-id-1 div.sk-label input.sk-toggleable__control:checked~label.sk-toggleable__label {background-color: #d4ebff;}#sk-container-id-1 input.sk-hidden--visually {border: 0;clip: rect(1px 1px 1px 1px);clip: rect(1px, 1px, 1px, 1px);height: 1px;margin: -1px;overflow: hidden;padding: 0;position: absolute;width: 1px;}#sk-container-id-1 div.sk-estimator {font-family: monospace;background-color: #f0f8ff;border: 1px dotted black;border-radius: 0.25em;box-sizing: border-box;margin-bottom: 0.5em;}#sk-container-id-1 div.sk-estimator:hover {background-color: #d4ebff;}#sk-container-id-1 div.sk-parallel-item::after {content: \"\";width: 100%;border-bottom: 1px solid gray;flex-grow: 1;}#sk-container-id-1 div.sk-label:hover label.sk-toggleable__label {background-color: #d4ebff;}#sk-container-id-1 div.sk-serial::before {content: \"\";position: absolute;border-left: 1px solid gray;box-sizing: border-box;top: 0;bottom: 0;left: 50%;z-index: 0;}#sk-container-id-1 div.sk-serial {display: flex;flex-direction: column;align-items: center;background-color: white;padding-right: 0.2em;padding-left: 0.2em;position: relative;}#sk-container-id-1 div.sk-item {position: relative;z-index: 1;}#sk-container-id-1 div.sk-parallel {display: flex;align-items: stretch;justify-content: center;background-color: white;position: relative;}#sk-container-id-1 div.sk-item::before, #sk-container-id-1 div.sk-parallel-item::before {content: \"\";position: absolute;border-left: 1px solid gray;box-sizing: border-box;top: 0;bottom: 0;left: 50%;z-index: -1;}#sk-container-id-1 div.sk-parallel-item {display: flex;flex-direction: column;z-index: 1;position: relative;background-color: white;}#sk-container-id-1 div.sk-parallel-item:first-child::after {align-self: flex-end;width: 50%;}#sk-container-id-1 div.sk-parallel-item:last-child::after {align-self: flex-start;width: 50%;}#sk-container-id-1 div.sk-parallel-item:only-child::after {width: 0;}#sk-container-id-1 div.sk-dashed-wrapped {border: 1px dashed gray;margin: 0 0.4em 0.5em 0.4em;box-sizing: border-box;padding-bottom: 0.4em;background-color: white;}#sk-container-id-1 div.sk-label label {font-family: monospace;font-weight: bold;display: inline-block;line-height: 1.2em;}#sk-container-id-1 div.sk-label-container {text-align: center;}#sk-container-id-1 div.sk-container {/* jupyter's `normalize.less` sets `[hidden] { display: none; }` but bootstrap.min.css set `[hidden] { display: none !important; }` so we also need the `!important` here to be able to override the default hidden behavior on the sphinx rendered scikit-learn.org. See: https://github.com/scikit-learn/scikit-learn/issues/21755 */display: inline-block !important;position: relative;}#sk-container-id-1 div.sk-text-repr-fallback {display: none;}</style><div id=\"sk-container-id-1\" class=\"sk-top-container\"><div class=\"sk-text-repr-fallback\"><pre>LogisticRegression(C=1.0, class_weight=None, dual=False, fit_intercept=True,\n",
       "                   intercept_scaling=1, l1_ratio=None, max_iter=1000,\n",
       "                   multi_class=&#x27;auto&#x27;, n_jobs=None, penalty=&#x27;l2&#x27;,\n",
       "                   random_state=555, solver=&#x27;lbfgs&#x27;, tol=0.0001, verbose=0,\n",
       "                   warm_start=False)</pre><b>In a Jupyter environment, please rerun this cell to show the HTML representation or trust the notebook. <br />On GitHub, the HTML representation is unable to render, please try loading this page with nbviewer.org.</b></div><div class=\"sk-container\" hidden><div class=\"sk-item\"><div class=\"sk-estimator sk-toggleable\"><input class=\"sk-toggleable__control sk-hidden--visually\" id=\"sk-estimator-id-1\" type=\"checkbox\" checked><label for=\"sk-estimator-id-1\" class=\"sk-toggleable__label sk-toggleable__label-arrow\">LogisticRegression</label><div class=\"sk-toggleable__content\"><pre>LogisticRegression(C=1.0, class_weight=None, dual=False, fit_intercept=True,\n",
       "                   intercept_scaling=1, l1_ratio=None, max_iter=1000,\n",
       "                   multi_class=&#x27;auto&#x27;, n_jobs=None, penalty=&#x27;l2&#x27;,\n",
       "                   random_state=555, solver=&#x27;lbfgs&#x27;, tol=0.0001, verbose=0,\n",
       "                   warm_start=False)</pre></div></div></div></div></div>"
      ],
      "text/plain": [
       "LogisticRegression(C=1.0, class_weight=None, dual=False, fit_intercept=True,\n",
       "                   intercept_scaling=1, l1_ratio=None, max_iter=1000,\n",
       "                   multi_class='auto', n_jobs=None, penalty='l2',\n",
       "                   random_state=555, solver='lbfgs', tol=0.0001, verbose=0,\n",
       "                   warm_start=False)"
      ]
     },
     "execution_count": 16,
     "metadata": {},
     "output_type": "execute_result"
    }
   ],
   "source": [
    "lr"
   ]
  },
  {
   "cell_type": "code",
   "execution_count": 17,
   "id": "6d7419df-9c73-4627-95f4-a677d5373cc3",
   "metadata": {
    "editable": true,
    "slideshow": {
     "slide_type": ""
    },
    "tags": []
   },
   "outputs": [
    {
     "data": {
      "text/html": [
       "<style>#sk-container-id-2 {color: black;background-color: white;}#sk-container-id-2 pre{padding: 0;}#sk-container-id-2 div.sk-toggleable {background-color: white;}#sk-container-id-2 label.sk-toggleable__label {cursor: pointer;display: block;width: 100%;margin-bottom: 0;padding: 0.3em;box-sizing: border-box;text-align: center;}#sk-container-id-2 label.sk-toggleable__label-arrow:before {content: \"▸\";float: left;margin-right: 0.25em;color: #696969;}#sk-container-id-2 label.sk-toggleable__label-arrow:hover:before {color: black;}#sk-container-id-2 div.sk-estimator:hover label.sk-toggleable__label-arrow:before {color: black;}#sk-container-id-2 div.sk-toggleable__content {max-height: 0;max-width: 0;overflow: hidden;text-align: left;background-color: #f0f8ff;}#sk-container-id-2 div.sk-toggleable__content pre {margin: 0.2em;color: black;border-radius: 0.25em;background-color: #f0f8ff;}#sk-container-id-2 input.sk-toggleable__control:checked~div.sk-toggleable__content {max-height: 200px;max-width: 100%;overflow: auto;}#sk-container-id-2 input.sk-toggleable__control:checked~label.sk-toggleable__label-arrow:before {content: \"▾\";}#sk-container-id-2 div.sk-estimator input.sk-toggleable__control:checked~label.sk-toggleable__label {background-color: #d4ebff;}#sk-container-id-2 div.sk-label input.sk-toggleable__control:checked~label.sk-toggleable__label {background-color: #d4ebff;}#sk-container-id-2 input.sk-hidden--visually {border: 0;clip: rect(1px 1px 1px 1px);clip: rect(1px, 1px, 1px, 1px);height: 1px;margin: -1px;overflow: hidden;padding: 0;position: absolute;width: 1px;}#sk-container-id-2 div.sk-estimator {font-family: monospace;background-color: #f0f8ff;border: 1px dotted black;border-radius: 0.25em;box-sizing: border-box;margin-bottom: 0.5em;}#sk-container-id-2 div.sk-estimator:hover {background-color: #d4ebff;}#sk-container-id-2 div.sk-parallel-item::after {content: \"\";width: 100%;border-bottom: 1px solid gray;flex-grow: 1;}#sk-container-id-2 div.sk-label:hover label.sk-toggleable__label {background-color: #d4ebff;}#sk-container-id-2 div.sk-serial::before {content: \"\";position: absolute;border-left: 1px solid gray;box-sizing: border-box;top: 0;bottom: 0;left: 50%;z-index: 0;}#sk-container-id-2 div.sk-serial {display: flex;flex-direction: column;align-items: center;background-color: white;padding-right: 0.2em;padding-left: 0.2em;position: relative;}#sk-container-id-2 div.sk-item {position: relative;z-index: 1;}#sk-container-id-2 div.sk-parallel {display: flex;align-items: stretch;justify-content: center;background-color: white;position: relative;}#sk-container-id-2 div.sk-item::before, #sk-container-id-2 div.sk-parallel-item::before {content: \"\";position: absolute;border-left: 1px solid gray;box-sizing: border-box;top: 0;bottom: 0;left: 50%;z-index: -1;}#sk-container-id-2 div.sk-parallel-item {display: flex;flex-direction: column;z-index: 1;position: relative;background-color: white;}#sk-container-id-2 div.sk-parallel-item:first-child::after {align-self: flex-end;width: 50%;}#sk-container-id-2 div.sk-parallel-item:last-child::after {align-self: flex-start;width: 50%;}#sk-container-id-2 div.sk-parallel-item:only-child::after {width: 0;}#sk-container-id-2 div.sk-dashed-wrapped {border: 1px dashed gray;margin: 0 0.4em 0.5em 0.4em;box-sizing: border-box;padding-bottom: 0.4em;background-color: white;}#sk-container-id-2 div.sk-label label {font-family: monospace;font-weight: bold;display: inline-block;line-height: 1.2em;}#sk-container-id-2 div.sk-label-container {text-align: center;}#sk-container-id-2 div.sk-container {/* jupyter's `normalize.less` sets `[hidden] { display: none; }` but bootstrap.min.css set `[hidden] { display: none !important; }` so we also need the `!important` here to be able to override the default hidden behavior on the sphinx rendered scikit-learn.org. See: https://github.com/scikit-learn/scikit-learn/issues/21755 */display: inline-block !important;position: relative;}#sk-container-id-2 div.sk-text-repr-fallback {display: none;}</style><div id=\"sk-container-id-2\" class=\"sk-top-container\"><div class=\"sk-text-repr-fallback\"><pre>LogisticRegression(C=0.117, class_weight={}, dual=False, fit_intercept=True,\n",
       "                   intercept_scaling=1, l1_ratio=None, max_iter=1000,\n",
       "                   multi_class=&#x27;auto&#x27;, n_jobs=None, penalty=&#x27;l2&#x27;,\n",
       "                   random_state=555, solver=&#x27;lbfgs&#x27;, tol=0.0001, verbose=0,\n",
       "                   warm_start=False)</pre><b>In a Jupyter environment, please rerun this cell to show the HTML representation or trust the notebook. <br />On GitHub, the HTML representation is unable to render, please try loading this page with nbviewer.org.</b></div><div class=\"sk-container\" hidden><div class=\"sk-item\"><div class=\"sk-estimator sk-toggleable\"><input class=\"sk-toggleable__control sk-hidden--visually\" id=\"sk-estimator-id-2\" type=\"checkbox\" checked><label for=\"sk-estimator-id-2\" class=\"sk-toggleable__label sk-toggleable__label-arrow\">LogisticRegression</label><div class=\"sk-toggleable__content\"><pre>LogisticRegression(C=0.117, class_weight={}, dual=False, fit_intercept=True,\n",
       "                   intercept_scaling=1, l1_ratio=None, max_iter=1000,\n",
       "                   multi_class=&#x27;auto&#x27;, n_jobs=None, penalty=&#x27;l2&#x27;,\n",
       "                   random_state=555, solver=&#x27;lbfgs&#x27;, tol=0.0001, verbose=0,\n",
       "                   warm_start=False)</pre></div></div></div></div></div>"
      ],
      "text/plain": [
       "LogisticRegression(C=0.117, class_weight={}, dual=False, fit_intercept=True,\n",
       "                   intercept_scaling=1, l1_ratio=None, max_iter=1000,\n",
       "                   multi_class='auto', n_jobs=None, penalty='l2',\n",
       "                   random_state=555, solver='lbfgs', tol=0.0001, verbose=0,\n",
       "                   warm_start=False)"
      ]
     },
     "execution_count": 17,
     "metadata": {},
     "output_type": "execute_result"
    }
   ],
   "source": [
    "tune_lr"
   ]
  },
  {
   "cell_type": "markdown",
   "id": "758c3721-8afd-476a-8752-ac5a62935913",
   "metadata": {
    "editable": true,
    "slideshow": {
     "slide_type": ""
    },
    "tags": []
   },
   "source": [
    "## Plot Model\n",
    "This function analyzes the performance of a trained model on holdout set. It may require re-training the model in certain cases"
   ]
  },
  {
   "cell_type": "code",
   "execution_count": 18,
   "id": "a722e398-8f44-49d6-9beb-bfce79cfb476",
   "metadata": {
    "editable": true,
    "slideshow": {
     "slide_type": ""
    },
    "tags": []
   },
   "outputs": [
    {
     "data": {
      "text/html": [],
      "text/plain": [
       "<IPython.core.display.HTML object>"
      ]
     },
     "metadata": {},
     "output_type": "display_data"
    },
    {
     "data": {
      "image/png": "[encoded data removed]",
      "text/plain": [
       "<Figure size 800x550 with 1 Axes>"
      ]
     },
     "metadata": {},
     "output_type": "display_data"
    }
   ],
   "source": [
    "exp1.plot_model(lr, plot = 'auc')\n",
    "# exp1.plot_model(lr, plot='pr')\n",
    "# exp1.plot_model(lr, plot='confusion_matrix')\n",
    "# exp1.plot_model(lr, plot='class_report')\n",
    "# exp1.plot_model(lr, plot = 'boundary')\n",
    "# exp1.plot_model(lr, plot = 'learning')\n",
    "# exp1.plot_model(lr, plot = 'feature')\n",
    "# exp1.plot_model(lr, plot = 'vc')"
   ]
  },
  {
   "cell_type": "markdown",
   "id": "0fa49238-c7b2-49df-b921-94da76c3f13f",
   "metadata": {
    "editable": true,
    "slideshow": {
     "slide_type": ""
    },
    "tags": []
   },
   "source": [
    "## Model calibration\n",
    "\n",
    "When performing classification you often not only want to predict the class label (outcome such as 0 or 1), but also obtain the probability of the respective outcome which provides a level of confidence on the prediction. Some models can give you poor estimates of the class probabilities and some do not even support probability prediction. Well calibrated classifiers are probabilistic and provide outputs in the form of probabilities that can be directly interpreted as a confidence level. PyCaret allows you to calibrate the probabilities of a given model through the calibrate_model() function."
   ]
  },
  {
   "cell_type": "code",
   "execution_count": 19,
   "id": "ceb59308-6d1f-407a-b549-1848003da4f5",
   "metadata": {
    "editable": true,
    "slideshow": {
     "slide_type": ""
    },
    "tags": []
   },
   "outputs": [
    {
     "data": {
      "text/html": [],
      "text/plain": [
       "<IPython.core.display.HTML object>"
      ]
     },
     "metadata": {},
     "output_type": "display_data"
    },
    {
     "data": {
      "image/png": "[encoded data removed]",
      "text/plain": [
       "<Figure size 700x600 with 1 Axes>"
      ]
     },
     "metadata": {},
     "output_type": "display_data"
    }
   ],
   "source": [
    "exp1.plot_model(lr, plot = 'calibration')"
   ]
  },
  {
   "cell_type": "markdown",
   "id": "5daa0a9b-3e06-43f6-96cf-aafa1da7b9b5",
   "metadata": {
    "editable": true,
    "slideshow": {
     "slide_type": ""
    },
    "tags": []
   },
   "source": [
    "## Evaluate model\n",
    "This function displays a user interface for analyzing performance of a trained model. It calls the plot_model function internally.\n",
    "\n",
    "*I don't recommend using this evaluate model functionality! very slow plus bugs! do separate plots instead.*"
   ]
  },
  {
   "cell_type": "code",
   "execution_count": 20,
   "id": "b26977aa-caf0-444c-aecd-7fd526196bb5",
   "metadata": {
    "editable": true,
    "scrolled": true,
    "slideshow": {
     "slide_type": ""
    },
    "tags": []
   },
   "outputs": [
    {
     "data": {
      "application/vnd.jupyter.widget-view+json": {
       "model_id": "294abdd8f3e44b4f82e6d0a4082671a4",
       "version_major": 2,
       "version_minor": 0
      },
      "text/plain": [
       "interactive(children=(ToggleButtons(description='Plot Type:', icons=('',), options=(('Pipeline Plot', 'pipelin…"
      ]
     },
     "metadata": {},
     "output_type": "display_data"
    }
   ],
   "source": [
    "exp1.evaluate_model(lr)"
   ]
  },
  {
   "cell_type": "markdown",
   "id": "f1c1c60e-d60b-4c21-86b4-751dbc308bad",
   "metadata": {
    "editable": true,
    "slideshow": {
     "slide_type": ""
    },
    "tags": []
   },
   "source": [
    "## Interpret model\n",
    "This function analyzes the predictions generated from a trained model. Most plots in this function are implemented based on the SHAP (SHapley Additive exPlanations). For more info on this, please see https://shap.readthedocs.io/en/latest/\n",
    "\n",
    "*This function only supports tree based models for binary classification: et, catboost, rf, lightgbm, dt*"
   ]
  },
  {
   "cell_type": "code",
   "execution_count": 21,
   "id": "b257e48c-e6fe-46d9-a4ce-7ecbca762dec",
   "metadata": {
    "editable": true,
    "slideshow": {
     "slide_type": ""
    },
    "tags": []
   },
   "outputs": [],
   "source": [
    "#exp1.interpret_model(lr)"
   ]
  },
  {
   "cell_type": "markdown",
   "id": "2b55571c-ba55-4a33-8785-0942a22b958c",
   "metadata": {
    "editable": true,
    "slideshow": {
     "slide_type": ""
    },
    "tags": []
   },
   "source": [
    "## Predict Model\n",
    "This function predicts Label using a trained model. When data is None, it predicts label on the holdout set."
   ]
  },
  {
   "cell_type": "code",
   "execution_count": 22,
   "id": "17a1d061-db54-45c9-93dc-e437d0bf9d42",
   "metadata": {
    "editable": true,
    "slideshow": {
     "slide_type": ""
    },
    "tags": []
   },
   "outputs": [
    {
     "data": {
      "text/html": [
       "<style type=\"text/css\">\n",
       "</style>\n",
       "<table id=\"T_7847e\">\n",
       "  <thead>\n",
       "    <tr>\n",
       "      <th class=\"blank level0\" >&nbsp;</th>\n",
       "      <th id=\"T_7847e_level0_col0\" class=\"col_heading level0 col0\" >Model</th>\n",
       "      <th id=\"T_7847e_level0_col1\" class=\"col_heading level0 col1\" >Accuracy</th>\n",
       "      <th id=\"T_7847e_level0_col2\" class=\"col_heading level0 col2\" >AUC</th>\n",
       "      <th id=\"T_7847e_level0_col3\" class=\"col_heading level0 col3\" >Recall</th>\n",
       "      <th id=\"T_7847e_level0_col4\" class=\"col_heading level0 col4\" >Prec.</th>\n",
       "      <th id=\"T_7847e_level0_col5\" class=\"col_heading level0 col5\" >F1</th>\n",
       "      <th id=\"T_7847e_level0_col6\" class=\"col_heading level0 col6\" >Kappa</th>\n",
       "      <th id=\"T_7847e_level0_col7\" class=\"col_heading level0 col7\" >MCC</th>\n",
       "    </tr>\n",
       "  </thead>\n",
       "  <tbody>\n",
       "    <tr>\n",
       "      <th id=\"T_7847e_level0_row0\" class=\"row_heading level0 row0\" >0</th>\n",
       "      <td id=\"T_7847e_row0_col0\" class=\"data row0 col0\" >Logistic Regression</td>\n",
       "      <td id=\"T_7847e_row0_col1\" class=\"data row0 col1\" >0.9146</td>\n",
       "      <td id=\"T_7847e_row0_col2\" class=\"data row0 col2\" >0.9748</td>\n",
       "      <td id=\"T_7847e_row0_col3\" class=\"data row0 col3\" >0.9368</td>\n",
       "      <td id=\"T_7847e_row0_col4\" class=\"data row0 col4\" >0.9174</td>\n",
       "      <td id=\"T_7847e_row0_col5\" class=\"data row0 col5\" >0.9270</td>\n",
       "      <td id=\"T_7847e_row0_col6\" class=\"data row0 col6\" >0.8243</td>\n",
       "      <td id=\"T_7847e_row0_col7\" class=\"data row0 col7\" >0.8245</td>\n",
       "    </tr>\n",
       "  </tbody>\n",
       "</table>\n"
      ],
      "text/plain": [
       "<pandas.io.formats.style.Styler at 0x1ed18876dd0>"
      ]
     },
     "metadata": {},
     "output_type": "display_data"
    }
   ],
   "source": [
    "holdout_pred = exp1.predict_model(lr)"
   ]
  },
  {
   "cell_type": "markdown",
   "id": "2328a375-d04c-4267-acf8-f54cdd6e797f",
   "metadata": {
    "editable": true,
    "slideshow": {
     "slide_type": ""
    },
    "tags": []
   },
   "source": [
    "## Finalize Model\n",
    "\n",
    "This function trains a given estimator on the entire dataset including the holdout set.\n",
    "\n",
    "Model finalization is the last step in the experiment. A normal machine learning workflow in PyCaret starts with setup(), followed by comparing all models using compare_models() and shortlisting a few candidate models (based on the metric of interest) to perform several modeling techniques such as hyperparameter tuning, ensembling, stacking etc. This workflow will eventually lead you to the best model for use in making predictions on new and unseen data. The finalize_model() function fits the model onto the complete dataset including the test/hold-out sample (30% in this case). The purpose of this function is to train the model on the complete dataset before it is deployed in production."
   ]
  },
  {
   "cell_type": "code",
   "execution_count": 23,
   "id": "fe33b631-6320-4081-b605-ca74674a0aca",
   "metadata": {
    "editable": true,
    "slideshow": {
     "slide_type": ""
    },
    "tags": []
   },
   "outputs": [],
   "source": [
    "final_model = exp1.finalize_model(lr)"
   ]
  },
  {
   "cell_type": "code",
   "execution_count": 24,
   "id": "176a634b-9fb9-4129-9b5a-72c6ffdda121",
   "metadata": {
    "editable": true,
    "slideshow": {
     "slide_type": ""
    },
    "tags": []
   },
   "outputs": [
    {
     "data": {
      "text/html": [
       "<style>#sk-container-id-3 {color: black;background-color: white;}#sk-container-id-3 pre{padding: 0;}#sk-container-id-3 div.sk-toggleable {background-color: white;}#sk-container-id-3 label.sk-toggleable__label {cursor: pointer;display: block;width: 100%;margin-bottom: 0;padding: 0.3em;box-sizing: border-box;text-align: center;}#sk-container-id-3 label.sk-toggleable__label-arrow:before {content: \"▸\";float: left;margin-right: 0.25em;color: #696969;}#sk-container-id-3 label.sk-toggleable__label-arrow:hover:before {color: black;}#sk-container-id-3 div.sk-estimator:hover label.sk-toggleable__label-arrow:before {color: black;}#sk-container-id-3 div.sk-toggleable__content {max-height: 0;max-width: 0;overflow: hidden;text-align: left;background-color: #f0f8ff;}#sk-container-id-3 div.sk-toggleable__content pre {margin: 0.2em;color: black;border-radius: 0.25em;background-color: #f0f8ff;}#sk-container-id-3 input.sk-toggleable__control:checked~div.sk-toggleable__content {max-height: 200px;max-width: 100%;overflow: auto;}#sk-container-id-3 input.sk-toggleable__control:checked~label.sk-toggleable__label-arrow:before {content: \"▾\";}#sk-container-id-3 div.sk-estimator input.sk-toggleable__control:checked~label.sk-toggleable__label {background-color: #d4ebff;}#sk-container-id-3 div.sk-label input.sk-toggleable__control:checked~label.sk-toggleable__label {background-color: #d4ebff;}#sk-container-id-3 input.sk-hidden--visually {border: 0;clip: rect(1px 1px 1px 1px);clip: rect(1px, 1px, 1px, 1px);height: 1px;margin: -1px;overflow: hidden;padding: 0;position: absolute;width: 1px;}#sk-container-id-3 div.sk-estimator {font-family: monospace;background-color: #f0f8ff;border: 1px dotted black;border-radius: 0.25em;box-sizing: border-box;margin-bottom: 0.5em;}#sk-container-id-3 div.sk-estimator:hover {background-color: #d4ebff;}#sk-container-id-3 div.sk-parallel-item::after {content: \"\";width: 100%;border-bottom: 1px solid gray;flex-grow: 1;}#sk-container-id-3 div.sk-label:hover label.sk-toggleable__label {background-color: #d4ebff;}#sk-container-id-3 div.sk-serial::before {content: \"\";position: absolute;border-left: 1px solid gray;box-sizing: border-box;top: 0;bottom: 0;left: 50%;z-index: 0;}#sk-container-id-3 div.sk-serial {display: flex;flex-direction: column;align-items: center;background-color: white;padding-right: 0.2em;padding-left: 0.2em;position: relative;}#sk-container-id-3 div.sk-item {position: relative;z-index: 1;}#sk-container-id-3 div.sk-parallel {display: flex;align-items: stretch;justify-content: center;background-color: white;position: relative;}#sk-container-id-3 div.sk-item::before, #sk-container-id-3 div.sk-parallel-item::before {content: \"\";position: absolute;border-left: 1px solid gray;box-sizing: border-box;top: 0;bottom: 0;left: 50%;z-index: -1;}#sk-container-id-3 div.sk-parallel-item {display: flex;flex-direction: column;z-index: 1;position: relative;background-color: white;}#sk-container-id-3 div.sk-parallel-item:first-child::after {align-self: flex-end;width: 50%;}#sk-container-id-3 div.sk-parallel-item:last-child::after {align-self: flex-start;width: 50%;}#sk-container-id-3 div.sk-parallel-item:only-child::after {width: 0;}#sk-container-id-3 div.sk-dashed-wrapped {border: 1px dashed gray;margin: 0 0.4em 0.5em 0.4em;box-sizing: border-box;padding-bottom: 0.4em;background-color: white;}#sk-container-id-3 div.sk-label label {font-family: monospace;font-weight: bold;display: inline-block;line-height: 1.2em;}#sk-container-id-3 div.sk-label-container {text-align: center;}#sk-container-id-3 div.sk-container {/* jupyter's `normalize.less` sets `[hidden] { display: none; }` but bootstrap.min.css set `[hidden] { display: none !important; }` so we also need the `!important` here to be able to override the default hidden behavior on the sphinx rendered scikit-learn.org. See: https://github.com/scikit-learn/scikit-learn/issues/21755 */display: inline-block !important;position: relative;}#sk-container-id-3 div.sk-text-repr-fallback {display: none;}</style><div id=\"sk-container-id-3\" class=\"sk-top-container\"><div class=\"sk-text-repr-fallback\"><pre>Pipeline(memory=Memory(location=None),\n",
       "         steps=[(&#x27;placeholder&#x27;, None),\n",
       "                (&#x27;actual_estimator&#x27;,\n",
       "                 LogisticRegression(C=1.0, class_weight=None, dual=False,\n",
       "                                    fit_intercept=True, intercept_scaling=1,\n",
       "                                    l1_ratio=None, max_iter=1000,\n",
       "                                    multi_class=&#x27;auto&#x27;, n_jobs=None,\n",
       "                                    penalty=&#x27;l2&#x27;, random_state=555,\n",
       "                                    solver=&#x27;lbfgs&#x27;, tol=0.0001, verbose=0,\n",
       "                                    warm_start=False))],\n",
       "         verbose=False)</pre><b>In a Jupyter environment, please rerun this cell to show the HTML representation or trust the notebook. <br />On GitHub, the HTML representation is unable to render, please try loading this page with nbviewer.org.</b></div><div class=\"sk-container\" hidden><div class=\"sk-item sk-dashed-wrapped\"><div class=\"sk-label-container\"><div class=\"sk-label sk-toggleable\"><input class=\"sk-toggleable__control sk-hidden--visually\" id=\"sk-estimator-id-3\" type=\"checkbox\" ><label for=\"sk-estimator-id-3\" class=\"sk-toggleable__label sk-toggleable__label-arrow\">Pipeline</label><div class=\"sk-toggleable__content\"><pre>Pipeline(memory=Memory(location=None),\n",
       "         steps=[(&#x27;placeholder&#x27;, None),\n",
       "                (&#x27;actual_estimator&#x27;,\n",
       "                 LogisticRegression(C=1.0, class_weight=None, dual=False,\n",
       "                                    fit_intercept=True, intercept_scaling=1,\n",
       "                                    l1_ratio=None, max_iter=1000,\n",
       "                                    multi_class=&#x27;auto&#x27;, n_jobs=None,\n",
       "                                    penalty=&#x27;l2&#x27;, random_state=555,\n",
       "                                    solver=&#x27;lbfgs&#x27;, tol=0.0001, verbose=0,\n",
       "                                    warm_start=False))],\n",
       "         verbose=False)</pre></div></div></div><div class=\"sk-serial\"><div class=\"sk-item\"><div class=\"sk-estimator sk-toggleable\"><input class=\"sk-toggleable__control sk-hidden--visually\" id=\"sk-estimator-id-4\" type=\"checkbox\" ><label for=\"sk-estimator-id-4\" class=\"sk-toggleable__label sk-toggleable__label-arrow\">None</label><div class=\"sk-toggleable__content\"><pre>None</pre></div></div></div><div class=\"sk-item\"><div class=\"sk-estimator sk-toggleable\"><input class=\"sk-toggleable__control sk-hidden--visually\" id=\"sk-estimator-id-5\" type=\"checkbox\" ><label for=\"sk-estimator-id-5\" class=\"sk-toggleable__label sk-toggleable__label-arrow\">LogisticRegression</label><div class=\"sk-toggleable__content\"><pre>LogisticRegression(max_iter=1000, random_state=555)</pre></div></div></div></div></div></div></div>"
      ],
      "text/plain": [
       "Pipeline(memory=Memory(location=None),\n",
       "         steps=[('placeholder', None),\n",
       "                ('actual_estimator',\n",
       "                 LogisticRegression(C=1.0, class_weight=None, dual=False,\n",
       "                                    fit_intercept=True, intercept_scaling=1,\n",
       "                                    l1_ratio=None, max_iter=1000,\n",
       "                                    multi_class='auto', n_jobs=None,\n",
       "                                    penalty='l2', random_state=555,\n",
       "                                    solver='lbfgs', tol=0.0001, verbose=0,\n",
       "                                    warm_start=False))],\n",
       "         verbose=False)"
      ]
     },
     "execution_count": 24,
     "metadata": {},
     "output_type": "execute_result"
    }
   ],
   "source": [
    "final_model"
   ]
  },
  {
   "cell_type": "markdown",
   "id": "d9e7a44f-9cbc-4552-b6e6-4de863508989",
   "metadata": {
    "editable": true,
    "slideshow": {
     "slide_type": ""
    },
    "tags": []
   },
   "source": [
    "### Final prediciton on unseen data\n",
    "\n",
    "The predict_model() function is also used to predict on the unseen dataset. The only difference from section 11 above is that this time we will pass the data_unseen parameter. data_unseen is the variable created at the beginning of the tutorial and contains 10% of the original dataset which was never exposed to PyCaret."
   ]
  },
  {
   "cell_type": "code",
   "execution_count": 25,
   "id": "6427e867-b115-4dc3-93de-dc90e8ca45dd",
   "metadata": {
    "editable": true,
    "slideshow": {
     "slide_type": ""
    },
    "tags": []
   },
   "outputs": [
    {
     "data": {
      "text/html": [
       "<style type=\"text/css\">\n",
       "</style>\n",
       "<table id=\"T_5845e\">\n",
       "  <thead>\n",
       "    <tr>\n",
       "      <th class=\"blank level0\" >&nbsp;</th>\n",
       "      <th id=\"T_5845e_level0_col0\" class=\"col_heading level0 col0\" >Model</th>\n",
       "      <th id=\"T_5845e_level0_col1\" class=\"col_heading level0 col1\" >Accuracy</th>\n",
       "      <th id=\"T_5845e_level0_col2\" class=\"col_heading level0 col2\" >AUC</th>\n",
       "      <th id=\"T_5845e_level0_col3\" class=\"col_heading level0 col3\" >Recall</th>\n",
       "      <th id=\"T_5845e_level0_col4\" class=\"col_heading level0 col4\" >Prec.</th>\n",
       "      <th id=\"T_5845e_level0_col5\" class=\"col_heading level0 col5\" >F1</th>\n",
       "      <th id=\"T_5845e_level0_col6\" class=\"col_heading level0 col6\" >Kappa</th>\n",
       "      <th id=\"T_5845e_level0_col7\" class=\"col_heading level0 col7\" >MCC</th>\n",
       "    </tr>\n",
       "  </thead>\n",
       "  <tbody>\n",
       "    <tr>\n",
       "      <th id=\"T_5845e_level0_row0\" class=\"row_heading level0 row0\" >0</th>\n",
       "      <td id=\"T_5845e_row0_col0\" class=\"data row0 col0\" >Logistic Regression</td>\n",
       "      <td id=\"T_5845e_row0_col1\" class=\"data row0 col1\" >0.9171</td>\n",
       "      <td id=\"T_5845e_row0_col2\" class=\"data row0 col2\" >0.9770</td>\n",
       "      <td id=\"T_5845e_row0_col3\" class=\"data row0 col3\" >0.9231</td>\n",
       "      <td id=\"T_5845e_row0_col4\" class=\"data row0 col4\" >0.9310</td>\n",
       "      <td id=\"T_5845e_row0_col5\" class=\"data row0 col5\" >0.9270</td>\n",
       "      <td id=\"T_5845e_row0_col6\" class=\"data row0 col6\" >0.8310</td>\n",
       "      <td id=\"T_5845e_row0_col7\" class=\"data row0 col7\" >0.8310</td>\n",
       "    </tr>\n",
       "  </tbody>\n",
       "</table>\n"
      ],
      "text/plain": [
       "<pandas.io.formats.style.Styler at 0x1ed18ebf950>"
      ]
     },
     "metadata": {},
     "output_type": "display_data"
    }
   ],
   "source": [
    "unseen_predictions=exp1.predict_model(final_model,data=data_unseen)"
   ]
  },
  {
   "cell_type": "code",
   "execution_count": 26,
   "id": "4363b5b1-9a37-4a0e-8429-7d8a5c730c5a",
   "metadata": {
    "editable": true,
    "slideshow": {
     "slide_type": ""
    },
    "tags": []
   },
   "outputs": [
    {
     "data": {
      "text/html": [
       "<div>\n",
       "<style scoped>\n",
       "    .dataframe tbody tr th:only-of-type {\n",
       "        vertical-align: middle;\n",
       "    }\n",
       "\n",
       "    .dataframe tbody tr th {\n",
       "        vertical-align: top;\n",
       "    }\n",
       "\n",
       "    .dataframe thead th {\n",
       "        text-align: right;\n",
       "    }\n",
       "</style>\n",
       "<table border=\"1\" class=\"dataframe\">\n",
       "  <thead>\n",
       "    <tr style=\"text-align: right;\">\n",
       "      <th></th>\n",
       "      <th>Team_Result</th>\n",
       "      <th>prediction_label</th>\n",
       "      <th>prediction_score</th>\n",
       "    </tr>\n",
       "  </thead>\n",
       "  <tbody>\n",
       "    <tr>\n",
       "      <th>0</th>\n",
       "      <td>1</td>\n",
       "      <td>1</td>\n",
       "      <td>0.9912</td>\n",
       "    </tr>\n",
       "    <tr>\n",
       "      <th>1</th>\n",
       "      <td>1</td>\n",
       "      <td>1</td>\n",
       "      <td>1.0000</td>\n",
       "    </tr>\n",
       "    <tr>\n",
       "      <th>2</th>\n",
       "      <td>0</td>\n",
       "      <td>0</td>\n",
       "      <td>0.8970</td>\n",
       "    </tr>\n",
       "    <tr>\n",
       "      <th>3</th>\n",
       "      <td>1</td>\n",
       "      <td>1</td>\n",
       "      <td>0.9968</td>\n",
       "    </tr>\n",
       "    <tr>\n",
       "      <th>4</th>\n",
       "      <td>0</td>\n",
       "      <td>0</td>\n",
       "      <td>0.9639</td>\n",
       "    </tr>\n",
       "    <tr>\n",
       "      <th>...</th>\n",
       "      <td>...</td>\n",
       "      <td>...</td>\n",
       "      <td>...</td>\n",
       "    </tr>\n",
       "    <tr>\n",
       "      <th>405</th>\n",
       "      <td>1</td>\n",
       "      <td>0</td>\n",
       "      <td>0.5588</td>\n",
       "    </tr>\n",
       "    <tr>\n",
       "      <th>406</th>\n",
       "      <td>0</td>\n",
       "      <td>0</td>\n",
       "      <td>0.9998</td>\n",
       "    </tr>\n",
       "    <tr>\n",
       "      <th>407</th>\n",
       "      <td>0</td>\n",
       "      <td>0</td>\n",
       "      <td>0.9999</td>\n",
       "    </tr>\n",
       "    <tr>\n",
       "      <th>408</th>\n",
       "      <td>0</td>\n",
       "      <td>0</td>\n",
       "      <td>0.9718</td>\n",
       "    </tr>\n",
       "    <tr>\n",
       "      <th>409</th>\n",
       "      <td>0</td>\n",
       "      <td>1</td>\n",
       "      <td>0.8234</td>\n",
       "    </tr>\n",
       "  </tbody>\n",
       "</table>\n",
       "<p>410 rows × 3 columns</p>\n",
       "</div>"
      ],
      "text/plain": [
       "     Team_Result  prediction_label  prediction_score\n",
       "0              1                 1            0.9912\n",
       "1              1                 1            1.0000\n",
       "2              0                 0            0.8970\n",
       "3              1                 1            0.9968\n",
       "4              0                 0            0.9639\n",
       "..           ...               ...               ...\n",
       "405            1                 0            0.5588\n",
       "406            0                 0            0.9998\n",
       "407            0                 0            0.9999\n",
       "408            0                 0            0.9718\n",
       "409            0                 1            0.8234\n",
       "\n",
       "[410 rows x 3 columns]"
      ]
     },
     "execution_count": 26,
     "metadata": {},
     "output_type": "execute_result"
    }
   ],
   "source": [
    "unseen_predictions[['Team_Result','prediction_label','prediction_score']]"
   ]
  },
  {
   "cell_type": "markdown",
   "id": "7f5e5232-20c0-4c68-8402-4c988b9fbac4",
   "metadata": {
    "editable": true,
    "slideshow": {
     "slide_type": ""
    },
    "tags": []
   },
   "source": [
    "## Save Model\n",
    "This function saves the transformation pipeline and trained model object into the current working directory as a pickle file for later use."
   ]
  },
  {
   "cell_type": "code",
   "execution_count": 27,
   "id": "4628bb82-1d2b-4f5e-8ce7-1fe3b6ed084c",
   "metadata": {
    "editable": true,
    "slideshow": {
     "slide_type": ""
    },
    "tags": []
   },
   "outputs": [
    {
     "name": "stdout",
     "output_type": "stream",
     "text": [
      "Transformation Pipeline and Model Successfully Saved\n"
     ]
    },
    {
     "data": {
      "text/plain": [
       "(Pipeline(memory=Memory(location=None),\n",
       "          steps=[('placeholder', None),\n",
       "                 ('actual_estimator',\n",
       "                  LogisticRegression(C=1.0, class_weight=None, dual=False,\n",
       "                                     fit_intercept=True, intercept_scaling=1,\n",
       "                                     l1_ratio=None, max_iter=1000,\n",
       "                                     multi_class='auto', n_jobs=None,\n",
       "                                     penalty='l2', random_state=555,\n",
       "                                     solver='lbfgs', tol=0.0001, verbose=0,\n",
       "                                     warm_start=False))],\n",
       "          verbose=False),\n",
       " 'my_pycaret_classifier.pkl')"
      ]
     },
     "execution_count": 27,
     "metadata": {},
     "output_type": "execute_result"
    }
   ],
   "source": [
    "exp1.save_model(final_model, 'my_pycaret_classifier')"
   ]
  },
  {
   "cell_type": "markdown",
   "id": "72cd57a4-81be-4adb-8c84-a691f219f08c",
   "metadata": {
    "editable": true,
    "slideshow": {
     "slide_type": ""
    },
    "tags": []
   },
   "source": [
    "## Load model\n",
    "This function loads a previously saved pipeline."
   ]
  },
  {
   "cell_type": "code",
   "execution_count": 28,
   "id": "7f4daefc-e222-4f8d-885e-eb20d740d714",
   "metadata": {
    "editable": true,
    "slideshow": {
     "slide_type": ""
    },
    "tags": []
   },
   "outputs": [
    {
     "name": "stdout",
     "output_type": "stream",
     "text": [
      "Transformation Pipeline and Model Successfully Loaded\n"
     ]
    }
   ],
   "source": [
    "my_classifier=load_model('my_pycaret_classifier')"
   ]
  },
  {
   "cell_type": "code",
   "execution_count": 29,
   "id": "fdc1f55f-1232-4f21-9ffc-91c54738a1ca",
   "metadata": {},
   "outputs": [
    {
     "data": {
      "text/html": [
       "<style>#sk-container-id-4 {color: black;background-color: white;}#sk-container-id-4 pre{padding: 0;}#sk-container-id-4 div.sk-toggleable {background-color: white;}#sk-container-id-4 label.sk-toggleable__label {cursor: pointer;display: block;width: 100%;margin-bottom: 0;padding: 0.3em;box-sizing: border-box;text-align: center;}#sk-container-id-4 label.sk-toggleable__label-arrow:before {content: \"▸\";float: left;margin-right: 0.25em;color: #696969;}#sk-container-id-4 label.sk-toggleable__label-arrow:hover:before {color: black;}#sk-container-id-4 div.sk-estimator:hover label.sk-toggleable__label-arrow:before {color: black;}#sk-container-id-4 div.sk-toggleable__content {max-height: 0;max-width: 0;overflow: hidden;text-align: left;background-color: #f0f8ff;}#sk-container-id-4 div.sk-toggleable__content pre {margin: 0.2em;color: black;border-radius: 0.25em;background-color: #f0f8ff;}#sk-container-id-4 input.sk-toggleable__control:checked~div.sk-toggleable__content {max-height: 200px;max-width: 100%;overflow: auto;}#sk-container-id-4 input.sk-toggleable__control:checked~label.sk-toggleable__label-arrow:before {content: \"▾\";}#sk-container-id-4 div.sk-estimator input.sk-toggleable__control:checked~label.sk-toggleable__label {background-color: #d4ebff;}#sk-container-id-4 div.sk-label input.sk-toggleable__control:checked~label.sk-toggleable__label {background-color: #d4ebff;}#sk-container-id-4 input.sk-hidden--visually {border: 0;clip: rect(1px 1px 1px 1px);clip: rect(1px, 1px, 1px, 1px);height: 1px;margin: -1px;overflow: hidden;padding: 0;position: absolute;width: 1px;}#sk-container-id-4 div.sk-estimator {font-family: monospace;background-color: #f0f8ff;border: 1px dotted black;border-radius: 0.25em;box-sizing: border-box;margin-bottom: 0.5em;}#sk-container-id-4 div.sk-estimator:hover {background-color: #d4ebff;}#sk-container-id-4 div.sk-parallel-item::after {content: \"\";width: 100%;border-bottom: 1px solid gray;flex-grow: 1;}#sk-container-id-4 div.sk-label:hover label.sk-toggleable__label {background-color: #d4ebff;}#sk-container-id-4 div.sk-serial::before {content: \"\";position: absolute;border-left: 1px solid gray;box-sizing: border-box;top: 0;bottom: 0;left: 50%;z-index: 0;}#sk-container-id-4 div.sk-serial {display: flex;flex-direction: column;align-items: center;background-color: white;padding-right: 0.2em;padding-left: 0.2em;position: relative;}#sk-container-id-4 div.sk-item {position: relative;z-index: 1;}#sk-container-id-4 div.sk-parallel {display: flex;align-items: stretch;justify-content: center;background-color: white;position: relative;}#sk-container-id-4 div.sk-item::before, #sk-container-id-4 div.sk-parallel-item::before {content: \"\";position: absolute;border-left: 1px solid gray;box-sizing: border-box;top: 0;bottom: 0;left: 50%;z-index: -1;}#sk-container-id-4 div.sk-parallel-item {display: flex;flex-direction: column;z-index: 1;position: relative;background-color: white;}#sk-container-id-4 div.sk-parallel-item:first-child::after {align-self: flex-end;width: 50%;}#sk-container-id-4 div.sk-parallel-item:last-child::after {align-self: flex-start;width: 50%;}#sk-container-id-4 div.sk-parallel-item:only-child::after {width: 0;}#sk-container-id-4 div.sk-dashed-wrapped {border: 1px dashed gray;margin: 0 0.4em 0.5em 0.4em;box-sizing: border-box;padding-bottom: 0.4em;background-color: white;}#sk-container-id-4 div.sk-label label {font-family: monospace;font-weight: bold;display: inline-block;line-height: 1.2em;}#sk-container-id-4 div.sk-label-container {text-align: center;}#sk-container-id-4 div.sk-container {/* jupyter's `normalize.less` sets `[hidden] { display: none; }` but bootstrap.min.css set `[hidden] { display: none !important; }` so we also need the `!important` here to be able to override the default hidden behavior on the sphinx rendered scikit-learn.org. See: https://github.com/scikit-learn/scikit-learn/issues/21755 */display: inline-block !important;position: relative;}#sk-container-id-4 div.sk-text-repr-fallback {display: none;}</style><div id=\"sk-container-id-4\" class=\"sk-top-container\"><div class=\"sk-text-repr-fallback\"><pre>Pipeline(memory=FastMemory(location=C:\\Users\\Eduardo\\AppData\\Local\\Temp\\joblib),\n",
       "         steps=[(&#x27;placeholder&#x27;, None),\n",
       "                (&#x27;actual_estimator&#x27;,\n",
       "                 LogisticRegression(C=1.0, class_weight=None, dual=False,\n",
       "                                    fit_intercept=True, intercept_scaling=1,\n",
       "                                    l1_ratio=None, max_iter=1000,\n",
       "                                    multi_class=&#x27;auto&#x27;, n_jobs=None,\n",
       "                                    penalty=&#x27;l2&#x27;, random_state=555,\n",
       "                                    solver=&#x27;lbfgs&#x27;, tol=0.0001, verbose=0,\n",
       "                                    warm_start=False))],\n",
       "         verbose=False)</pre><b>In a Jupyter environment, please rerun this cell to show the HTML representation or trust the notebook. <br />On GitHub, the HTML representation is unable to render, please try loading this page with nbviewer.org.</b></div><div class=\"sk-container\" hidden><div class=\"sk-item sk-dashed-wrapped\"><div class=\"sk-label-container\"><div class=\"sk-label sk-toggleable\"><input class=\"sk-toggleable__control sk-hidden--visually\" id=\"sk-estimator-id-6\" type=\"checkbox\" ><label for=\"sk-estimator-id-6\" class=\"sk-toggleable__label sk-toggleable__label-arrow\">Pipeline</label><div class=\"sk-toggleable__content\"><pre>Pipeline(memory=FastMemory(location=C:\\Users\\Eduardo\\AppData\\Local\\Temp\\joblib),\n",
       "         steps=[(&#x27;placeholder&#x27;, None),\n",
       "                (&#x27;actual_estimator&#x27;,\n",
       "                 LogisticRegression(C=1.0, class_weight=None, dual=False,\n",
       "                                    fit_intercept=True, intercept_scaling=1,\n",
       "                                    l1_ratio=None, max_iter=1000,\n",
       "                                    multi_class=&#x27;auto&#x27;, n_jobs=None,\n",
       "                                    penalty=&#x27;l2&#x27;, random_state=555,\n",
       "                                    solver=&#x27;lbfgs&#x27;, tol=0.0001, verbose=0,\n",
       "                                    warm_start=False))],\n",
       "         verbose=False)</pre></div></div></div><div class=\"sk-serial\"><div class=\"sk-item\"><div class=\"sk-estimator sk-toggleable\"><input class=\"sk-toggleable__control sk-hidden--visually\" id=\"sk-estimator-id-7\" type=\"checkbox\" ><label for=\"sk-estimator-id-7\" class=\"sk-toggleable__label sk-toggleable__label-arrow\">None</label><div class=\"sk-toggleable__content\"><pre>None</pre></div></div></div><div class=\"sk-item\"><div class=\"sk-estimator sk-toggleable\"><input class=\"sk-toggleable__control sk-hidden--visually\" id=\"sk-estimator-id-8\" type=\"checkbox\" ><label for=\"sk-estimator-id-8\" class=\"sk-toggleable__label sk-toggleable__label-arrow\">LogisticRegression</label><div class=\"sk-toggleable__content\"><pre>LogisticRegression(max_iter=1000, random_state=555)</pre></div></div></div></div></div></div></div>"
      ],
      "text/plain": [
       "Pipeline(memory=FastMemory(location=C:\\Users\\Eduardo\\AppData\\Local\\Temp\\joblib),\n",
       "         steps=[('placeholder', None),\n",
       "                ('actual_estimator',\n",
       "                 LogisticRegression(C=1.0, class_weight=None, dual=False,\n",
       "                                    fit_intercept=True, intercept_scaling=1,\n",
       "                                    l1_ratio=None, max_iter=1000,\n",
       "                                    multi_class='auto', n_jobs=None,\n",
       "                                    penalty='l2', random_state=555,\n",
       "                                    solver='lbfgs', tol=0.0001, verbose=0,\n",
       "                                    warm_start=False))],\n",
       "         verbose=False)"
      ]
     },
     "execution_count": 29,
     "metadata": {},
     "output_type": "execute_result"
    }
   ],
   "source": [
    "my_classifier"
   ]
  },
  {
   "cell_type": "code",
   "execution_count": 30,
   "id": "e736b7a3-3fe5-493a-9170-1cb62aa1bf82",
   "metadata": {
    "editable": true,
    "slideshow": {
     "slide_type": ""
    },
    "tags": []
   },
   "outputs": [],
   "source": [
    "from pycaret.classification import predict_model\n"
   ]
  },
  {
   "cell_type": "code",
   "execution_count": 31,
   "id": "8ea7bb91-fcde-400b-aa07-fb03d8eb6110",
   "metadata": {},
   "outputs": [
    {
     "data": {
      "text/html": [
       "<style type=\"text/css\">\n",
       "</style>\n",
       "<table id=\"T_ce158\">\n",
       "  <thead>\n",
       "    <tr>\n",
       "      <th class=\"blank level0\" >&nbsp;</th>\n",
       "      <th id=\"T_ce158_level0_col0\" class=\"col_heading level0 col0\" >Model</th>\n",
       "      <th id=\"T_ce158_level0_col1\" class=\"col_heading level0 col1\" >Accuracy</th>\n",
       "      <th id=\"T_ce158_level0_col2\" class=\"col_heading level0 col2\" >AUC</th>\n",
       "      <th id=\"T_ce158_level0_col3\" class=\"col_heading level0 col3\" >Recall</th>\n",
       "      <th id=\"T_ce158_level0_col4\" class=\"col_heading level0 col4\" >Prec.</th>\n",
       "      <th id=\"T_ce158_level0_col5\" class=\"col_heading level0 col5\" >F1</th>\n",
       "      <th id=\"T_ce158_level0_col6\" class=\"col_heading level0 col6\" >Kappa</th>\n",
       "      <th id=\"T_ce158_level0_col7\" class=\"col_heading level0 col7\" >MCC</th>\n",
       "    </tr>\n",
       "  </thead>\n",
       "  <tbody>\n",
       "    <tr>\n",
       "      <th id=\"T_ce158_level0_row0\" class=\"row_heading level0 row0\" >0</th>\n",
       "      <td id=\"T_ce158_row0_col0\" class=\"data row0 col0\" >Logistic Regression</td>\n",
       "      <td id=\"T_ce158_row0_col1\" class=\"data row0 col1\" >0.9171</td>\n",
       "      <td id=\"T_ce158_row0_col2\" class=\"data row0 col2\" >0.9770</td>\n",
       "      <td id=\"T_ce158_row0_col3\" class=\"data row0 col3\" >0.9231</td>\n",
       "      <td id=\"T_ce158_row0_col4\" class=\"data row0 col4\" >0.9310</td>\n",
       "      <td id=\"T_ce158_row0_col5\" class=\"data row0 col5\" >0.9270</td>\n",
       "      <td id=\"T_ce158_row0_col6\" class=\"data row0 col6\" >0.8310</td>\n",
       "      <td id=\"T_ce158_row0_col7\" class=\"data row0 col7\" >0.8310</td>\n",
       "    </tr>\n",
       "  </tbody>\n",
       "</table>\n"
      ],
      "text/plain": [
       "<pandas.io.formats.style.Styler at 0x1ed18f037d0>"
      ]
     },
     "metadata": {},
     "output_type": "display_data"
    }
   ],
   "source": [
    "predictions=predict_model(my_classifier,data=data_unseen)"
   ]
  },
  {
   "cell_type": "code",
   "execution_count": 32,
   "id": "0933ecdf-cfcc-4b6b-b0f4-b37cc307447b",
   "metadata": {},
   "outputs": [
    {
     "data": {
      "text/html": [
       "<div>\n",
       "<style scoped>\n",
       "    .dataframe tbody tr th:only-of-type {\n",
       "        vertical-align: middle;\n",
       "    }\n",
       "\n",
       "    .dataframe tbody tr th {\n",
       "        vertical-align: top;\n",
       "    }\n",
       "\n",
       "    .dataframe thead th {\n",
       "        text-align: right;\n",
       "    }\n",
       "</style>\n",
       "<table border=\"1\" class=\"dataframe\">\n",
       "  <thead>\n",
       "    <tr style=\"text-align: right;\">\n",
       "      <th></th>\n",
       "      <th>Disposals_diff</th>\n",
       "      <th>Kicks_diff</th>\n",
       "      <th>Marks_diff</th>\n",
       "      <th>Handballs_diff</th>\n",
       "      <th>HitOuts_diff</th>\n",
       "      <th>Tackles_diff</th>\n",
       "      <th>Rebounds_diff</th>\n",
       "      <th>Inside50_diff</th>\n",
       "      <th>Clearances_diff</th>\n",
       "      <th>Clangers_diff</th>\n",
       "      <th>...</th>\n",
       "      <th>ContestedPossessions_diff</th>\n",
       "      <th>UncontestedPossessions_diff</th>\n",
       "      <th>ContestedMarks_diff</th>\n",
       "      <th>MarksInside50_diff</th>\n",
       "      <th>OnePercenters_diff</th>\n",
       "      <th>Bounces_diff</th>\n",
       "      <th>GoalAssists_diff</th>\n",
       "      <th>Team_Result</th>\n",
       "      <th>prediction_label</th>\n",
       "      <th>prediction_score</th>\n",
       "    </tr>\n",
       "  </thead>\n",
       "  <tbody>\n",
       "    <tr>\n",
       "      <th>0</th>\n",
       "      <td>-31</td>\n",
       "      <td>-8</td>\n",
       "      <td>-23</td>\n",
       "      <td>-23</td>\n",
       "      <td>1</td>\n",
       "      <td>-1</td>\n",
       "      <td>-3</td>\n",
       "      <td>9</td>\n",
       "      <td>3</td>\n",
       "      <td>-4</td>\n",
       "      <td>...</td>\n",
       "      <td>0</td>\n",
       "      <td>-33</td>\n",
       "      <td>3</td>\n",
       "      <td>-2</td>\n",
       "      <td>24</td>\n",
       "      <td>15</td>\n",
       "      <td>3</td>\n",
       "      <td>1</td>\n",
       "      <td>1</td>\n",
       "      <td>0.9912</td>\n",
       "    </tr>\n",
       "    <tr>\n",
       "      <th>1</th>\n",
       "      <td>90</td>\n",
       "      <td>56</td>\n",
       "      <td>54</td>\n",
       "      <td>34</td>\n",
       "      <td>17</td>\n",
       "      <td>15</td>\n",
       "      <td>-7</td>\n",
       "      <td>26</td>\n",
       "      <td>6</td>\n",
       "      <td>3</td>\n",
       "      <td>...</td>\n",
       "      <td>-5</td>\n",
       "      <td>87</td>\n",
       "      <td>7</td>\n",
       "      <td>17</td>\n",
       "      <td>12</td>\n",
       "      <td>8</td>\n",
       "      <td>9</td>\n",
       "      <td>1</td>\n",
       "      <td>1</td>\n",
       "      <td>1.0000</td>\n",
       "    </tr>\n",
       "    <tr>\n",
       "      <th>2</th>\n",
       "      <td>47</td>\n",
       "      <td>10</td>\n",
       "      <td>25</td>\n",
       "      <td>37</td>\n",
       "      <td>-7</td>\n",
       "      <td>5</td>\n",
       "      <td>6</td>\n",
       "      <td>-8</td>\n",
       "      <td>-5</td>\n",
       "      <td>8</td>\n",
       "      <td>...</td>\n",
       "      <td>2</td>\n",
       "      <td>54</td>\n",
       "      <td>3</td>\n",
       "      <td>-1</td>\n",
       "      <td>-7</td>\n",
       "      <td>-2</td>\n",
       "      <td>-2</td>\n",
       "      <td>0</td>\n",
       "      <td>0</td>\n",
       "      <td>0.8970</td>\n",
       "    </tr>\n",
       "    <tr>\n",
       "      <th>3</th>\n",
       "      <td>36</td>\n",
       "      <td>38</td>\n",
       "      <td>24</td>\n",
       "      <td>-2</td>\n",
       "      <td>-25</td>\n",
       "      <td>18</td>\n",
       "      <td>0</td>\n",
       "      <td>8</td>\n",
       "      <td>-3</td>\n",
       "      <td>-11</td>\n",
       "      <td>...</td>\n",
       "      <td>18</td>\n",
       "      <td>16</td>\n",
       "      <td>10</td>\n",
       "      <td>5</td>\n",
       "      <td>-6</td>\n",
       "      <td>3</td>\n",
       "      <td>0</td>\n",
       "      <td>1</td>\n",
       "      <td>1</td>\n",
       "      <td>0.9968</td>\n",
       "    </tr>\n",
       "    <tr>\n",
       "      <th>4</th>\n",
       "      <td>9</td>\n",
       "      <td>-2</td>\n",
       "      <td>-7</td>\n",
       "      <td>11</td>\n",
       "      <td>19</td>\n",
       "      <td>-25</td>\n",
       "      <td>-3</td>\n",
       "      <td>-5</td>\n",
       "      <td>2</td>\n",
       "      <td>-10</td>\n",
       "      <td>...</td>\n",
       "      <td>9</td>\n",
       "      <td>-3</td>\n",
       "      <td>0</td>\n",
       "      <td>1</td>\n",
       "      <td>1</td>\n",
       "      <td>-1</td>\n",
       "      <td>-3</td>\n",
       "      <td>0</td>\n",
       "      <td>0</td>\n",
       "      <td>0.9639</td>\n",
       "    </tr>\n",
       "    <tr>\n",
       "      <th>...</th>\n",
       "      <td>...</td>\n",
       "      <td>...</td>\n",
       "      <td>...</td>\n",
       "      <td>...</td>\n",
       "      <td>...</td>\n",
       "      <td>...</td>\n",
       "      <td>...</td>\n",
       "      <td>...</td>\n",
       "      <td>...</td>\n",
       "      <td>...</td>\n",
       "      <td>...</td>\n",
       "      <td>...</td>\n",
       "      <td>...</td>\n",
       "      <td>...</td>\n",
       "      <td>...</td>\n",
       "      <td>...</td>\n",
       "      <td>...</td>\n",
       "      <td>...</td>\n",
       "      <td>...</td>\n",
       "      <td>...</td>\n",
       "      <td>...</td>\n",
       "    </tr>\n",
       "    <tr>\n",
       "      <th>405</th>\n",
       "      <td>11</td>\n",
       "      <td>31</td>\n",
       "      <td>19</td>\n",
       "      <td>-20</td>\n",
       "      <td>4</td>\n",
       "      <td>12</td>\n",
       "      <td>-15</td>\n",
       "      <td>15</td>\n",
       "      <td>-3</td>\n",
       "      <td>4</td>\n",
       "      <td>...</td>\n",
       "      <td>-3</td>\n",
       "      <td>8</td>\n",
       "      <td>5</td>\n",
       "      <td>0</td>\n",
       "      <td>-18</td>\n",
       "      <td>-7</td>\n",
       "      <td>-1</td>\n",
       "      <td>1</td>\n",
       "      <td>0</td>\n",
       "      <td>0.5588</td>\n",
       "    </tr>\n",
       "    <tr>\n",
       "      <th>406</th>\n",
       "      <td>-63</td>\n",
       "      <td>-55</td>\n",
       "      <td>-30</td>\n",
       "      <td>-8</td>\n",
       "      <td>-6</td>\n",
       "      <td>-3</td>\n",
       "      <td>-5</td>\n",
       "      <td>-5</td>\n",
       "      <td>-9</td>\n",
       "      <td>3</td>\n",
       "      <td>...</td>\n",
       "      <td>-10</td>\n",
       "      <td>-48</td>\n",
       "      <td>-6</td>\n",
       "      <td>-8</td>\n",
       "      <td>-7</td>\n",
       "      <td>3</td>\n",
       "      <td>-6</td>\n",
       "      <td>0</td>\n",
       "      <td>0</td>\n",
       "      <td>0.9998</td>\n",
       "    </tr>\n",
       "    <tr>\n",
       "      <th>407</th>\n",
       "      <td>-88</td>\n",
       "      <td>-44</td>\n",
       "      <td>-5</td>\n",
       "      <td>-44</td>\n",
       "      <td>5</td>\n",
       "      <td>-1</td>\n",
       "      <td>-2</td>\n",
       "      <td>-8</td>\n",
       "      <td>-12</td>\n",
       "      <td>11</td>\n",
       "      <td>...</td>\n",
       "      <td>-28</td>\n",
       "      <td>-59</td>\n",
       "      <td>-1</td>\n",
       "      <td>-9</td>\n",
       "      <td>-8</td>\n",
       "      <td>1</td>\n",
       "      <td>-6</td>\n",
       "      <td>0</td>\n",
       "      <td>0</td>\n",
       "      <td>0.9999</td>\n",
       "    </tr>\n",
       "    <tr>\n",
       "      <th>408</th>\n",
       "      <td>17</td>\n",
       "      <td>-33</td>\n",
       "      <td>-5</td>\n",
       "      <td>50</td>\n",
       "      <td>-26</td>\n",
       "      <td>1</td>\n",
       "      <td>2</td>\n",
       "      <td>-7</td>\n",
       "      <td>2</td>\n",
       "      <td>10</td>\n",
       "      <td>...</td>\n",
       "      <td>4</td>\n",
       "      <td>31</td>\n",
       "      <td>0</td>\n",
       "      <td>-2</td>\n",
       "      <td>-1</td>\n",
       "      <td>6</td>\n",
       "      <td>0</td>\n",
       "      <td>0</td>\n",
       "      <td>0</td>\n",
       "      <td>0.9718</td>\n",
       "    </tr>\n",
       "    <tr>\n",
       "      <th>409</th>\n",
       "      <td>22</td>\n",
       "      <td>2</td>\n",
       "      <td>4</td>\n",
       "      <td>20</td>\n",
       "      <td>31</td>\n",
       "      <td>20</td>\n",
       "      <td>6</td>\n",
       "      <td>-7</td>\n",
       "      <td>-4</td>\n",
       "      <td>9</td>\n",
       "      <td>...</td>\n",
       "      <td>6</td>\n",
       "      <td>21</td>\n",
       "      <td>3</td>\n",
       "      <td>7</td>\n",
       "      <td>4</td>\n",
       "      <td>4</td>\n",
       "      <td>4</td>\n",
       "      <td>0</td>\n",
       "      <td>1</td>\n",
       "      <td>0.8234</td>\n",
       "    </tr>\n",
       "  </tbody>\n",
       "</table>\n",
       "<p>410 rows × 22 columns</p>\n",
       "</div>"
      ],
      "text/plain": [
       "     Disposals_diff  Kicks_diff  Marks_diff  Handballs_diff  HitOuts_diff  \\\n",
       "0               -31          -8         -23             -23             1   \n",
       "1                90          56          54              34            17   \n",
       "2                47          10          25              37            -7   \n",
       "3                36          38          24              -2           -25   \n",
       "4                 9          -2          -7              11            19   \n",
       "..              ...         ...         ...             ...           ...   \n",
       "405              11          31          19             -20             4   \n",
       "406             -63         -55         -30              -8            -6   \n",
       "407             -88         -44          -5             -44             5   \n",
       "408              17         -33          -5              50           -26   \n",
       "409              22           2           4              20            31   \n",
       "\n",
       "     Tackles_diff  Rebounds_diff  Inside50_diff  Clearances_diff  \\\n",
       "0              -1             -3              9                3   \n",
       "1              15             -7             26                6   \n",
       "2               5              6             -8               -5   \n",
       "3              18              0              8               -3   \n",
       "4             -25             -3             -5                2   \n",
       "..            ...            ...            ...              ...   \n",
       "405            12            -15             15               -3   \n",
       "406            -3             -5             -5               -9   \n",
       "407            -1             -2             -8              -12   \n",
       "408             1              2             -7                2   \n",
       "409            20              6             -7               -4   \n",
       "\n",
       "     Clangers_diff  ...  ContestedPossessions_diff  \\\n",
       "0               -4  ...                          0   \n",
       "1                3  ...                         -5   \n",
       "2                8  ...                          2   \n",
       "3              -11  ...                         18   \n",
       "4              -10  ...                          9   \n",
       "..             ...  ...                        ...   \n",
       "405              4  ...                         -3   \n",
       "406              3  ...                        -10   \n",
       "407             11  ...                        -28   \n",
       "408             10  ...                          4   \n",
       "409              9  ...                          6   \n",
       "\n",
       "     UncontestedPossessions_diff  ContestedMarks_diff  MarksInside50_diff  \\\n",
       "0                            -33                    3                  -2   \n",
       "1                             87                    7                  17   \n",
       "2                             54                    3                  -1   \n",
       "3                             16                   10                   5   \n",
       "4                             -3                    0                   1   \n",
       "..                           ...                  ...                 ...   \n",
       "405                            8                    5                   0   \n",
       "406                          -48                   -6                  -8   \n",
       "407                          -59                   -1                  -9   \n",
       "408                           31                    0                  -2   \n",
       "409                           21                    3                   7   \n",
       "\n",
       "     OnePercenters_diff  Bounces_diff  GoalAssists_diff  Team_Result  \\\n",
       "0                    24            15                 3            1   \n",
       "1                    12             8                 9            1   \n",
       "2                    -7            -2                -2            0   \n",
       "3                    -6             3                 0            1   \n",
       "4                     1            -1                -3            0   \n",
       "..                  ...           ...               ...          ...   \n",
       "405                 -18            -7                -1            1   \n",
       "406                  -7             3                -6            0   \n",
       "407                  -8             1                -6            0   \n",
       "408                  -1             6                 0            0   \n",
       "409                   4             4                 4            0   \n",
       "\n",
       "     prediction_label  prediction_score  \n",
       "0                   1            0.9912  \n",
       "1                   1            1.0000  \n",
       "2                   0            0.8970  \n",
       "3                   1            0.9968  \n",
       "4                   0            0.9639  \n",
       "..                ...               ...  \n",
       "405                 0            0.5588  \n",
       "406                 0            0.9998  \n",
       "407                 0            0.9999  \n",
       "408                 0            0.9718  \n",
       "409                 1            0.8234  \n",
       "\n",
       "[410 rows x 22 columns]"
      ]
     },
     "execution_count": 32,
     "metadata": {},
     "output_type": "execute_result"
    }
   ],
   "source": [
    "predictions"
   ]
  }
 ],
 "metadata": {
  "kernelspec": {
   "display_name": "venv",
   "language": "python",
   "name": "venv"
  },
  "language_info": {
   "codemirror_mode": {
    "name": "ipython",
    "version": 3
   },
   "file_extension": ".py",
   "mimetype": "text/x-python",
   "name": "python",
   "nbconvert_exporter": "python",
   "pygments_lexer": "ipython3",
   "version": "3.11.5"
  }
 },
 "nbformat": 4,
 "nbformat_minor": 5
}
